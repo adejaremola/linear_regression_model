{
  "nbformat": 4,
  "nbformat_minor": 0,
  "metadata": {
    "colab": {
      "provenance": []
    },
    "kernelspec": {
      "name": "python3",
      "display_name": "Python 3"
    },
    "language_info": {
      "name": "python"
    }
  },
  "cells": [
    {
      "cell_type": "markdown",
      "source": [
        "#**Brief**\n",
        "In this project, you're working for a client who wants to create a model that can predict the price of apartments in the city of Buenos Aires — with a focus on apartments that cost less than $400,000 USD."
      ],
      "metadata": {
        "id": "s2_5eT1bW_l7"
      }
    },
    {
      "cell_type": "markdown",
      "source": [
        "# **Prepare Data**\n",
        "We start by importing the new dataset. We'd convert it to a dataframe, clean the data and remove the columns that are clearly not needed."
      ],
      "metadata": {
        "id": "G_lx7IM2jum3"
      }
    },
    {
      "cell_type": "markdown",
      "source": [
        "##**Import**\n",
        "We start by importing the new dataset here."
      ],
      "metadata": {
        "id": "zp2AuH_Glbyr"
      }
    },
    {
      "cell_type": "code",
      "source": [
        "import pandas as pd\n",
        "import matplotlib.pyplot as plt\n",
        "\n",
        "# import data\n",
        "df = pd.read_csv('/content/drive/MyDrive/PluralCode/Data Science With Python/buenos-aires-real-estate-1.csv')\n",
        "\n",
        "df.info()"
      ],
      "metadata": {
        "colab": {
          "base_uri": "https://localhost:8080/"
        },
        "id": "5k-rin-2kiOP",
        "outputId": "d03df76b-7aae-4de1-9c25-7cfd906dbbc2"
      },
      "execution_count": 1,
      "outputs": [
        {
          "output_type": "stream",
          "name": "stdout",
          "text": [
            "<class 'pandas.core.frame.DataFrame'>\n",
            "RangeIndex: 8606 entries, 0 to 8605\n",
            "Data columns (total 16 columns):\n",
            " #   Column                      Non-Null Count  Dtype  \n",
            "---  ------                      --------------  -----  \n",
            " 0   operation                   8606 non-null   object \n",
            " 1   property_type               8606 non-null   object \n",
            " 2   place_with_parent_names     8606 non-null   object \n",
            " 3   lat-lon                     6936 non-null   object \n",
            " 4   price                       7590 non-null   float64\n",
            " 5   currency                    7590 non-null   object \n",
            " 6   price_aprox_local_currency  7590 non-null   float64\n",
            " 7   price_aprox_usd             7590 non-null   float64\n",
            " 8   surface_total_in_m2         5946 non-null   float64\n",
            " 9   surface_covered_in_m2       7268 non-null   float64\n",
            " 10  price_usd_per_m2            4895 non-null   float64\n",
            " 11  price_per_m2                6520 non-null   float64\n",
            " 12  floor                       1259 non-null   float64\n",
            " 13  rooms                       4752 non-null   float64\n",
            " 14  expenses                    875 non-null    float64\n",
            " 15  properati_url               8606 non-null   object \n",
            "dtypes: float64(10), object(6)\n",
            "memory usage: 1.1+ MB\n"
          ]
        }
      ]
    },
    {
      "cell_type": "code",
      "source": [
        "# let's see what the data in the columns looks like\n",
        "df.head()"
      ],
      "metadata": {
        "colab": {
          "base_uri": "https://localhost:8080/",
          "height": 313
        },
        "collapsed": true,
        "id": "2QpVbYWDome7",
        "outputId": "125aa86e-d0b8-4de7-ce60-85584bd4ac86"
      },
      "execution_count": 2,
      "outputs": [
        {
          "output_type": "execute_result",
          "data": {
            "text/plain": [
              "  operation property_type                            place_with_parent_names  \\\n",
              "0      sell     apartment           |Argentina|Capital Federal|Villa Crespo|   \n",
              "1      sell         house  |Argentina|Bs.As. G.B.A. Zona Oeste|La Matanza...   \n",
              "2      sell         house  |Argentina|Bs.As. G.B.A. Zona Oeste|Morón|Cast...   \n",
              "3      sell         house  |Argentina|Bs.As. G.B.A. Zona Oeste|Tres de Fe...   \n",
              "4      sell     apartment              |Argentina|Capital Federal|Chacarita|   \n",
              "\n",
              "                         lat-lon     price currency  \\\n",
              "0  -34.6047834183,-58.4586812499  180000.0      USD   \n",
              "1                            NaN  250000.0      USD   \n",
              "2         -34.6497002,-58.658073  410000.0      USD   \n",
              "3        -34.5957086,-58.5669503  180000.0      USD   \n",
              "4  -34.5846508988,-58.4546932614  129000.0      USD   \n",
              "\n",
              "   price_aprox_local_currency  price_aprox_usd  surface_total_in_m2  \\\n",
              "0                   2729232.0         180000.0                120.0   \n",
              "1                   3790600.0         250000.0                117.0   \n",
              "2                   6216584.0         410000.0                410.0   \n",
              "3                   2729232.0         180000.0                200.0   \n",
              "4                   1955949.6         129000.0                 76.0   \n",
              "\n",
              "   surface_covered_in_m2  price_usd_per_m2  price_per_m2  floor  rooms  \\\n",
              "0                  110.0       1500.000000   1636.363636    NaN    4.0   \n",
              "1                  120.0       2136.752137   2083.333333    NaN    4.0   \n",
              "2                  220.0       1000.000000   1863.636364    NaN    NaN   \n",
              "3                  135.0        900.000000   1333.333333    NaN    5.0   \n",
              "4                   70.0       1697.368421   1842.857143    NaN    NaN   \n",
              "\n",
              "   expenses                                      properati_url  \n",
              "0       NaN  http://villa-crespo.properati.com.ar/12egq_ven...  \n",
              "1       NaN  http://ramos-mejia.properati.com.ar/s7pd_venta...  \n",
              "2       NaN  http://castelar-moron.properati.com.ar/11vgn_v...  \n",
              "3       NaN  http://tres-de-febrero.properati.com.ar/7f7u_v...  \n",
              "4       NaN  http://chacarita.properati.com.ar/10qlv_venta_...  "
            ],
            "text/html": [
              "\n",
              "  <div id=\"df-6e33cac8-07f9-436a-8fab-4c3be2670ff5\" class=\"colab-df-container\">\n",
              "    <div>\n",
              "<style scoped>\n",
              "    .dataframe tbody tr th:only-of-type {\n",
              "        vertical-align: middle;\n",
              "    }\n",
              "\n",
              "    .dataframe tbody tr th {\n",
              "        vertical-align: top;\n",
              "    }\n",
              "\n",
              "    .dataframe thead th {\n",
              "        text-align: right;\n",
              "    }\n",
              "</style>\n",
              "<table border=\"1\" class=\"dataframe\">\n",
              "  <thead>\n",
              "    <tr style=\"text-align: right;\">\n",
              "      <th></th>\n",
              "      <th>operation</th>\n",
              "      <th>property_type</th>\n",
              "      <th>place_with_parent_names</th>\n",
              "      <th>lat-lon</th>\n",
              "      <th>price</th>\n",
              "      <th>currency</th>\n",
              "      <th>price_aprox_local_currency</th>\n",
              "      <th>price_aprox_usd</th>\n",
              "      <th>surface_total_in_m2</th>\n",
              "      <th>surface_covered_in_m2</th>\n",
              "      <th>price_usd_per_m2</th>\n",
              "      <th>price_per_m2</th>\n",
              "      <th>floor</th>\n",
              "      <th>rooms</th>\n",
              "      <th>expenses</th>\n",
              "      <th>properati_url</th>\n",
              "    </tr>\n",
              "  </thead>\n",
              "  <tbody>\n",
              "    <tr>\n",
              "      <th>0</th>\n",
              "      <td>sell</td>\n",
              "      <td>apartment</td>\n",
              "      <td>|Argentina|Capital Federal|Villa Crespo|</td>\n",
              "      <td>-34.6047834183,-58.4586812499</td>\n",
              "      <td>180000.0</td>\n",
              "      <td>USD</td>\n",
              "      <td>2729232.0</td>\n",
              "      <td>180000.0</td>\n",
              "      <td>120.0</td>\n",
              "      <td>110.0</td>\n",
              "      <td>1500.000000</td>\n",
              "      <td>1636.363636</td>\n",
              "      <td>NaN</td>\n",
              "      <td>4.0</td>\n",
              "      <td>NaN</td>\n",
              "      <td>http://villa-crespo.properati.com.ar/12egq_ven...</td>\n",
              "    </tr>\n",
              "    <tr>\n",
              "      <th>1</th>\n",
              "      <td>sell</td>\n",
              "      <td>house</td>\n",
              "      <td>|Argentina|Bs.As. G.B.A. Zona Oeste|La Matanza...</td>\n",
              "      <td>NaN</td>\n",
              "      <td>250000.0</td>\n",
              "      <td>USD</td>\n",
              "      <td>3790600.0</td>\n",
              "      <td>250000.0</td>\n",
              "      <td>117.0</td>\n",
              "      <td>120.0</td>\n",
              "      <td>2136.752137</td>\n",
              "      <td>2083.333333</td>\n",
              "      <td>NaN</td>\n",
              "      <td>4.0</td>\n",
              "      <td>NaN</td>\n",
              "      <td>http://ramos-mejia.properati.com.ar/s7pd_venta...</td>\n",
              "    </tr>\n",
              "    <tr>\n",
              "      <th>2</th>\n",
              "      <td>sell</td>\n",
              "      <td>house</td>\n",
              "      <td>|Argentina|Bs.As. G.B.A. Zona Oeste|Morón|Cast...</td>\n",
              "      <td>-34.6497002,-58.658073</td>\n",
              "      <td>410000.0</td>\n",
              "      <td>USD</td>\n",
              "      <td>6216584.0</td>\n",
              "      <td>410000.0</td>\n",
              "      <td>410.0</td>\n",
              "      <td>220.0</td>\n",
              "      <td>1000.000000</td>\n",
              "      <td>1863.636364</td>\n",
              "      <td>NaN</td>\n",
              "      <td>NaN</td>\n",
              "      <td>NaN</td>\n",
              "      <td>http://castelar-moron.properati.com.ar/11vgn_v...</td>\n",
              "    </tr>\n",
              "    <tr>\n",
              "      <th>3</th>\n",
              "      <td>sell</td>\n",
              "      <td>house</td>\n",
              "      <td>|Argentina|Bs.As. G.B.A. Zona Oeste|Tres de Fe...</td>\n",
              "      <td>-34.5957086,-58.5669503</td>\n",
              "      <td>180000.0</td>\n",
              "      <td>USD</td>\n",
              "      <td>2729232.0</td>\n",
              "      <td>180000.0</td>\n",
              "      <td>200.0</td>\n",
              "      <td>135.0</td>\n",
              "      <td>900.000000</td>\n",
              "      <td>1333.333333</td>\n",
              "      <td>NaN</td>\n",
              "      <td>5.0</td>\n",
              "      <td>NaN</td>\n",
              "      <td>http://tres-de-febrero.properati.com.ar/7f7u_v...</td>\n",
              "    </tr>\n",
              "    <tr>\n",
              "      <th>4</th>\n",
              "      <td>sell</td>\n",
              "      <td>apartment</td>\n",
              "      <td>|Argentina|Capital Federal|Chacarita|</td>\n",
              "      <td>-34.5846508988,-58.4546932614</td>\n",
              "      <td>129000.0</td>\n",
              "      <td>USD</td>\n",
              "      <td>1955949.6</td>\n",
              "      <td>129000.0</td>\n",
              "      <td>76.0</td>\n",
              "      <td>70.0</td>\n",
              "      <td>1697.368421</td>\n",
              "      <td>1842.857143</td>\n",
              "      <td>NaN</td>\n",
              "      <td>NaN</td>\n",
              "      <td>NaN</td>\n",
              "      <td>http://chacarita.properati.com.ar/10qlv_venta_...</td>\n",
              "    </tr>\n",
              "  </tbody>\n",
              "</table>\n",
              "</div>\n",
              "    <div class=\"colab-df-buttons\">\n",
              "\n",
              "  <div class=\"colab-df-container\">\n",
              "    <button class=\"colab-df-convert\" onclick=\"convertToInteractive('df-6e33cac8-07f9-436a-8fab-4c3be2670ff5')\"\n",
              "            title=\"Convert this dataframe to an interactive table.\"\n",
              "            style=\"display:none;\">\n",
              "\n",
              "  <svg xmlns=\"http://www.w3.org/2000/svg\" height=\"24px\" viewBox=\"0 -960 960 960\">\n",
              "    <path d=\"M120-120v-720h720v720H120Zm60-500h600v-160H180v160Zm220 220h160v-160H400v160Zm0 220h160v-160H400v160ZM180-400h160v-160H180v160Zm440 0h160v-160H620v160ZM180-180h160v-160H180v160Zm440 0h160v-160H620v160Z\"/>\n",
              "  </svg>\n",
              "    </button>\n",
              "\n",
              "  <style>\n",
              "    .colab-df-container {\n",
              "      display:flex;\n",
              "      gap: 12px;\n",
              "    }\n",
              "\n",
              "    .colab-df-convert {\n",
              "      background-color: #E8F0FE;\n",
              "      border: none;\n",
              "      border-radius: 50%;\n",
              "      cursor: pointer;\n",
              "      display: none;\n",
              "      fill: #1967D2;\n",
              "      height: 32px;\n",
              "      padding: 0 0 0 0;\n",
              "      width: 32px;\n",
              "    }\n",
              "\n",
              "    .colab-df-convert:hover {\n",
              "      background-color: #E2EBFA;\n",
              "      box-shadow: 0px 1px 2px rgba(60, 64, 67, 0.3), 0px 1px 3px 1px rgba(60, 64, 67, 0.15);\n",
              "      fill: #174EA6;\n",
              "    }\n",
              "\n",
              "    .colab-df-buttons div {\n",
              "      margin-bottom: 4px;\n",
              "    }\n",
              "\n",
              "    [theme=dark] .colab-df-convert {\n",
              "      background-color: #3B4455;\n",
              "      fill: #D2E3FC;\n",
              "    }\n",
              "\n",
              "    [theme=dark] .colab-df-convert:hover {\n",
              "      background-color: #434B5C;\n",
              "      box-shadow: 0px 1px 3px 1px rgba(0, 0, 0, 0.15);\n",
              "      filter: drop-shadow(0px 1px 2px rgba(0, 0, 0, 0.3));\n",
              "      fill: #FFFFFF;\n",
              "    }\n",
              "  </style>\n",
              "\n",
              "    <script>\n",
              "      const buttonEl =\n",
              "        document.querySelector('#df-6e33cac8-07f9-436a-8fab-4c3be2670ff5 button.colab-df-convert');\n",
              "      buttonEl.style.display =\n",
              "        google.colab.kernel.accessAllowed ? 'block' : 'none';\n",
              "\n",
              "      async function convertToInteractive(key) {\n",
              "        const element = document.querySelector('#df-6e33cac8-07f9-436a-8fab-4c3be2670ff5');\n",
              "        const dataTable =\n",
              "          await google.colab.kernel.invokeFunction('convertToInteractive',\n",
              "                                                    [key], {});\n",
              "        if (!dataTable) return;\n",
              "\n",
              "        const docLinkHtml = 'Like what you see? Visit the ' +\n",
              "          '<a target=\"_blank\" href=https://colab.research.google.com/notebooks/data_table.ipynb>data table notebook</a>'\n",
              "          + ' to learn more about interactive tables.';\n",
              "        element.innerHTML = '';\n",
              "        dataTable['output_type'] = 'display_data';\n",
              "        await google.colab.output.renderOutput(dataTable, element);\n",
              "        const docLink = document.createElement('div');\n",
              "        docLink.innerHTML = docLinkHtml;\n",
              "        element.appendChild(docLink);\n",
              "      }\n",
              "    </script>\n",
              "  </div>\n",
              "\n",
              "\n",
              "<div id=\"df-c4b8d34b-a40c-4096-8c64-fd634987f03b\">\n",
              "  <button class=\"colab-df-quickchart\" onclick=\"quickchart('df-c4b8d34b-a40c-4096-8c64-fd634987f03b')\"\n",
              "            title=\"Suggest charts\"\n",
              "            style=\"display:none;\">\n",
              "\n",
              "<svg xmlns=\"http://www.w3.org/2000/svg\" height=\"24px\"viewBox=\"0 0 24 24\"\n",
              "     width=\"24px\">\n",
              "    <g>\n",
              "        <path d=\"M19 3H5c-1.1 0-2 .9-2 2v14c0 1.1.9 2 2 2h14c1.1 0 2-.9 2-2V5c0-1.1-.9-2-2-2zM9 17H7v-7h2v7zm4 0h-2V7h2v10zm4 0h-2v-4h2v4z\"/>\n",
              "    </g>\n",
              "</svg>\n",
              "  </button>\n",
              "\n",
              "<style>\n",
              "  .colab-df-quickchart {\n",
              "      --bg-color: #E8F0FE;\n",
              "      --fill-color: #1967D2;\n",
              "      --hover-bg-color: #E2EBFA;\n",
              "      --hover-fill-color: #174EA6;\n",
              "      --disabled-fill-color: #AAA;\n",
              "      --disabled-bg-color: #DDD;\n",
              "  }\n",
              "\n",
              "  [theme=dark] .colab-df-quickchart {\n",
              "      --bg-color: #3B4455;\n",
              "      --fill-color: #D2E3FC;\n",
              "      --hover-bg-color: #434B5C;\n",
              "      --hover-fill-color: #FFFFFF;\n",
              "      --disabled-bg-color: #3B4455;\n",
              "      --disabled-fill-color: #666;\n",
              "  }\n",
              "\n",
              "  .colab-df-quickchart {\n",
              "    background-color: var(--bg-color);\n",
              "    border: none;\n",
              "    border-radius: 50%;\n",
              "    cursor: pointer;\n",
              "    display: none;\n",
              "    fill: var(--fill-color);\n",
              "    height: 32px;\n",
              "    padding: 0;\n",
              "    width: 32px;\n",
              "  }\n",
              "\n",
              "  .colab-df-quickchart:hover {\n",
              "    background-color: var(--hover-bg-color);\n",
              "    box-shadow: 0 1px 2px rgba(60, 64, 67, 0.3), 0 1px 3px 1px rgba(60, 64, 67, 0.15);\n",
              "    fill: var(--button-hover-fill-color);\n",
              "  }\n",
              "\n",
              "  .colab-df-quickchart-complete:disabled,\n",
              "  .colab-df-quickchart-complete:disabled:hover {\n",
              "    background-color: var(--disabled-bg-color);\n",
              "    fill: var(--disabled-fill-color);\n",
              "    box-shadow: none;\n",
              "  }\n",
              "\n",
              "  .colab-df-spinner {\n",
              "    border: 2px solid var(--fill-color);\n",
              "    border-color: transparent;\n",
              "    border-bottom-color: var(--fill-color);\n",
              "    animation:\n",
              "      spin 1s steps(1) infinite;\n",
              "  }\n",
              "\n",
              "  @keyframes spin {\n",
              "    0% {\n",
              "      border-color: transparent;\n",
              "      border-bottom-color: var(--fill-color);\n",
              "      border-left-color: var(--fill-color);\n",
              "    }\n",
              "    20% {\n",
              "      border-color: transparent;\n",
              "      border-left-color: var(--fill-color);\n",
              "      border-top-color: var(--fill-color);\n",
              "    }\n",
              "    30% {\n",
              "      border-color: transparent;\n",
              "      border-left-color: var(--fill-color);\n",
              "      border-top-color: var(--fill-color);\n",
              "      border-right-color: var(--fill-color);\n",
              "    }\n",
              "    40% {\n",
              "      border-color: transparent;\n",
              "      border-right-color: var(--fill-color);\n",
              "      border-top-color: var(--fill-color);\n",
              "    }\n",
              "    60% {\n",
              "      border-color: transparent;\n",
              "      border-right-color: var(--fill-color);\n",
              "    }\n",
              "    80% {\n",
              "      border-color: transparent;\n",
              "      border-right-color: var(--fill-color);\n",
              "      border-bottom-color: var(--fill-color);\n",
              "    }\n",
              "    90% {\n",
              "      border-color: transparent;\n",
              "      border-bottom-color: var(--fill-color);\n",
              "    }\n",
              "  }\n",
              "</style>\n",
              "\n",
              "  <script>\n",
              "    async function quickchart(key) {\n",
              "      const quickchartButtonEl =\n",
              "        document.querySelector('#' + key + ' button');\n",
              "      quickchartButtonEl.disabled = true;  // To prevent multiple clicks.\n",
              "      quickchartButtonEl.classList.add('colab-df-spinner');\n",
              "      try {\n",
              "        const charts = await google.colab.kernel.invokeFunction(\n",
              "            'suggestCharts', [key], {});\n",
              "      } catch (error) {\n",
              "        console.error('Error during call to suggestCharts:', error);\n",
              "      }\n",
              "      quickchartButtonEl.classList.remove('colab-df-spinner');\n",
              "      quickchartButtonEl.classList.add('colab-df-quickchart-complete');\n",
              "    }\n",
              "    (() => {\n",
              "      let quickchartButtonEl =\n",
              "        document.querySelector('#df-c4b8d34b-a40c-4096-8c64-fd634987f03b button');\n",
              "      quickchartButtonEl.style.display =\n",
              "        google.colab.kernel.accessAllowed ? 'block' : 'none';\n",
              "    })();\n",
              "  </script>\n",
              "</div>\n",
              "\n",
              "    </div>\n",
              "  </div>\n"
            ],
            "application/vnd.google.colaboratory.intrinsic+json": {
              "type": "dataframe",
              "variable_name": "df",
              "summary": "{\n  \"name\": \"df\",\n  \"rows\": 8606,\n  \"fields\": [\n    {\n      \"column\": \"operation\",\n      \"properties\": {\n        \"dtype\": \"category\",\n        \"num_unique_values\": 1,\n        \"samples\": [\n          \"sell\"\n        ],\n        \"semantic_type\": \"\",\n        \"description\": \"\"\n      }\n    },\n    {\n      \"column\": \"property_type\",\n      \"properties\": {\n        \"dtype\": \"category\",\n        \"num_unique_values\": 4,\n        \"samples\": [\n          \"house\"\n        ],\n        \"semantic_type\": \"\",\n        \"description\": \"\"\n      }\n    },\n    {\n      \"column\": \"place_with_parent_names\",\n      \"properties\": {\n        \"dtype\": \"category\",\n        \"num_unique_values\": 370,\n        \"samples\": [\n          \"|Argentina|Bs.As. G.B.A. Zona Norte|General San Mart\\u00edn|Villa Maipu|\"\n        ],\n        \"semantic_type\": \"\",\n        \"description\": \"\"\n      }\n    },\n    {\n      \"column\": \"lat-lon\",\n      \"properties\": {\n        \"dtype\": \"string\",\n        \"num_unique_values\": 6074,\n        \"samples\": [\n          \"-34.5831329,-58.4208369\"\n        ],\n        \"semantic_type\": \"\",\n        \"description\": \"\"\n      }\n    },\n    {\n      \"column\": \"price\",\n      \"properties\": {\n        \"dtype\": \"number\",\n        \"std\": 507458.5692025196,\n        \"min\": 0.0,\n        \"max\": 11111111.0,\n        \"num_unique_values\": 1136,\n        \"samples\": [\n          82561.0\n        ],\n        \"semantic_type\": \"\",\n        \"description\": \"\"\n      }\n    },\n    {\n      \"column\": \"currency\",\n      \"properties\": {\n        \"dtype\": \"category\",\n        \"num_unique_values\": 2,\n        \"samples\": [\n          \"ARS\"\n        ],\n        \"semantic_type\": \"\",\n        \"description\": \"\"\n      }\n    },\n    {\n      \"column\": \"price_aprox_local_currency\",\n      \"properties\": {\n        \"dtype\": \"number\",\n        \"std\": 4758038.246340516,\n        \"min\": 0.0,\n        \"max\": 121299200.0,\n        \"num_unique_values\": 1207,\n        \"samples\": [\n          17436760.0\n        ],\n        \"semantic_type\": \"\",\n        \"description\": \"\"\n      }\n    },\n    {\n      \"column\": \"price_aprox_usd\",\n      \"properties\": {\n        \"dtype\": \"number\",\n        \"std\": 313805.08667772607,\n        \"min\": 0.0,\n        \"max\": 8000000.0,\n        \"num_unique_values\": 1207,\n        \"samples\": [\n          1150000.0\n        ],\n        \"semantic_type\": \"\",\n        \"description\": \"\"\n      }\n    },\n    {\n      \"column\": \"surface_total_in_m2\",\n      \"properties\": {\n        \"dtype\": \"number\",\n        \"std\": 938.3748616937978,\n        \"min\": 0.0,\n        \"max\": 62034.0,\n        \"num_unique_values\": 727,\n        \"samples\": [\n          827.0\n        ],\n        \"semantic_type\": \"\",\n        \"description\": \"\"\n      }\n    },\n    {\n      \"column\": \"surface_covered_in_m2\",\n      \"properties\": {\n        \"dtype\": \"number\",\n        \"std\": 764.0929310565024,\n        \"min\": 0.0,\n        \"max\": 62034.0,\n        \"num_unique_values\": 487,\n        \"samples\": [\n          57.0\n        ],\n        \"semantic_type\": \"\",\n        \"description\": \"\"\n      }\n    },\n    {\n      \"column\": \"price_usd_per_m2\",\n      \"properties\": {\n        \"dtype\": \"number\",\n        \"std\": 1577.0244298624714,\n        \"min\": 0.0,\n        \"max\": 54990.0,\n        \"num_unique_values\": 3156,\n        \"samples\": [\n          1510.989011\n        ],\n        \"semantic_type\": \"\",\n        \"description\": \"\"\n      }\n    },\n    {\n      \"column\": \"price_per_m2\",\n      \"properties\": {\n        \"dtype\": \"number\",\n        \"std\": 12265.59201345836,\n        \"min\": 2.224586517,\n        \"max\": 450000.0,\n        \"num_unique_values\": 3466,\n        \"samples\": [\n          1886.792453\n        ],\n        \"semantic_type\": \"\",\n        \"description\": \"\"\n      }\n    },\n    {\n      \"column\": \"floor\",\n      \"properties\": {\n        \"dtype\": \"number\",\n        \"std\": 59.640308667405726,\n        \"min\": 1.0,\n        \"max\": 1503.0,\n        \"num_unique_values\": 41,\n        \"samples\": [\n          27.0\n        ],\n        \"semantic_type\": \"\",\n        \"description\": \"\"\n      }\n    },\n    {\n      \"column\": \"rooms\",\n      \"properties\": {\n        \"dtype\": \"number\",\n        \"std\": 1.3864809071269306,\n        \"min\": 1.0,\n        \"max\": 20.0,\n        \"num_unique_values\": 13,\n        \"samples\": [\n          20.0\n        ],\n        \"semantic_type\": \"\",\n        \"description\": \"\"\n      }\n    },\n    {\n      \"column\": \"expenses\",\n      \"properties\": {\n        \"dtype\": \"number\",\n        \"std\": 6.772052012288658e+17,\n        \"min\": 1.0,\n        \"max\": 2.0032e+19,\n        \"num_unique_values\": 214,\n        \"samples\": [\n          400.0\n        ],\n        \"semantic_type\": \"\",\n        \"description\": \"\"\n      }\n    },\n    {\n      \"column\": \"properati_url\",\n      \"properties\": {\n        \"dtype\": \"string\",\n        \"num_unique_values\": 8606,\n        \"samples\": [\n          \"http://pilar.properati.com.ar/107ep_venta_casa_pilar_jardin_re-max-central\"\n        ],\n        \"semantic_type\": \"\",\n        \"description\": \"\"\n      }\n    }\n  ]\n}"
            }
          },
          "metadata": {},
          "execution_count": 2
        }
      ]
    },
    {
      "cell_type": "markdown",
      "source": [
        "##**Clean**\n",
        "\n",
        "Having seen the columns and what the data in each column looks like, we can decide on the columns to take out, before moving on to removing rows with null values"
      ],
      "metadata": {
        "id": "Tz0kB-2gAKiq"
      }
    },
    {
      "cell_type": "code",
      "source": [
        "# let's take out the columns that are obviously not needed\n",
        "df.drop(['operation', 'price', 'currency', 'price_aprox_local_currency', 'price_per_m2', 'properati_url', 'expenses', 'floor'], axis='columns', inplace=True)"
      ],
      "metadata": {
        "id": "Xr_0b_fXAtKY"
      },
      "execution_count": 3,
      "outputs": []
    },
    {
      "cell_type": "code",
      "source": [
        "# let's take a look at our updated dataframe\n",
        "df.info()\n",
        "df.head()"
      ],
      "metadata": {
        "colab": {
          "base_uri": "https://localhost:8080/",
          "height": 581
        },
        "collapsed": true,
        "id": "CFSECRMaCNYl",
        "outputId": "5cf546c6-ddbb-4efd-c3c2-bfbfdf63579f"
      },
      "execution_count": 4,
      "outputs": [
        {
          "output_type": "stream",
          "name": "stdout",
          "text": [
            "<class 'pandas.core.frame.DataFrame'>\n",
            "RangeIndex: 8606 entries, 0 to 8605\n",
            "Data columns (total 8 columns):\n",
            " #   Column                   Non-Null Count  Dtype  \n",
            "---  ------                   --------------  -----  \n",
            " 0   property_type            8606 non-null   object \n",
            " 1   place_with_parent_names  8606 non-null   object \n",
            " 2   lat-lon                  6936 non-null   object \n",
            " 3   price_aprox_usd          7590 non-null   float64\n",
            " 4   surface_total_in_m2      5946 non-null   float64\n",
            " 5   surface_covered_in_m2    7268 non-null   float64\n",
            " 6   price_usd_per_m2         4895 non-null   float64\n",
            " 7   rooms                    4752 non-null   float64\n",
            "dtypes: float64(5), object(3)\n",
            "memory usage: 538.0+ KB\n"
          ]
        },
        {
          "output_type": "execute_result",
          "data": {
            "text/plain": [
              "  property_type                            place_with_parent_names  \\\n",
              "0     apartment           |Argentina|Capital Federal|Villa Crespo|   \n",
              "1         house  |Argentina|Bs.As. G.B.A. Zona Oeste|La Matanza...   \n",
              "2         house  |Argentina|Bs.As. G.B.A. Zona Oeste|Morón|Cast...   \n",
              "3         house  |Argentina|Bs.As. G.B.A. Zona Oeste|Tres de Fe...   \n",
              "4     apartment              |Argentina|Capital Federal|Chacarita|   \n",
              "\n",
              "                         lat-lon  price_aprox_usd  surface_total_in_m2  \\\n",
              "0  -34.6047834183,-58.4586812499         180000.0                120.0   \n",
              "1                            NaN         250000.0                117.0   \n",
              "2         -34.6497002,-58.658073         410000.0                410.0   \n",
              "3        -34.5957086,-58.5669503         180000.0                200.0   \n",
              "4  -34.5846508988,-58.4546932614         129000.0                 76.0   \n",
              "\n",
              "   surface_covered_in_m2  price_usd_per_m2  rooms  \n",
              "0                  110.0       1500.000000    4.0  \n",
              "1                  120.0       2136.752137    4.0  \n",
              "2                  220.0       1000.000000    NaN  \n",
              "3                  135.0        900.000000    5.0  \n",
              "4                   70.0       1697.368421    NaN  "
            ],
            "text/html": [
              "\n",
              "  <div id=\"df-1cc68740-948b-46de-91d1-2a17c5d183d4\" class=\"colab-df-container\">\n",
              "    <div>\n",
              "<style scoped>\n",
              "    .dataframe tbody tr th:only-of-type {\n",
              "        vertical-align: middle;\n",
              "    }\n",
              "\n",
              "    .dataframe tbody tr th {\n",
              "        vertical-align: top;\n",
              "    }\n",
              "\n",
              "    .dataframe thead th {\n",
              "        text-align: right;\n",
              "    }\n",
              "</style>\n",
              "<table border=\"1\" class=\"dataframe\">\n",
              "  <thead>\n",
              "    <tr style=\"text-align: right;\">\n",
              "      <th></th>\n",
              "      <th>property_type</th>\n",
              "      <th>place_with_parent_names</th>\n",
              "      <th>lat-lon</th>\n",
              "      <th>price_aprox_usd</th>\n",
              "      <th>surface_total_in_m2</th>\n",
              "      <th>surface_covered_in_m2</th>\n",
              "      <th>price_usd_per_m2</th>\n",
              "      <th>rooms</th>\n",
              "    </tr>\n",
              "  </thead>\n",
              "  <tbody>\n",
              "    <tr>\n",
              "      <th>0</th>\n",
              "      <td>apartment</td>\n",
              "      <td>|Argentina|Capital Federal|Villa Crespo|</td>\n",
              "      <td>-34.6047834183,-58.4586812499</td>\n",
              "      <td>180000.0</td>\n",
              "      <td>120.0</td>\n",
              "      <td>110.0</td>\n",
              "      <td>1500.000000</td>\n",
              "      <td>4.0</td>\n",
              "    </tr>\n",
              "    <tr>\n",
              "      <th>1</th>\n",
              "      <td>house</td>\n",
              "      <td>|Argentina|Bs.As. G.B.A. Zona Oeste|La Matanza...</td>\n",
              "      <td>NaN</td>\n",
              "      <td>250000.0</td>\n",
              "      <td>117.0</td>\n",
              "      <td>120.0</td>\n",
              "      <td>2136.752137</td>\n",
              "      <td>4.0</td>\n",
              "    </tr>\n",
              "    <tr>\n",
              "      <th>2</th>\n",
              "      <td>house</td>\n",
              "      <td>|Argentina|Bs.As. G.B.A. Zona Oeste|Morón|Cast...</td>\n",
              "      <td>-34.6497002,-58.658073</td>\n",
              "      <td>410000.0</td>\n",
              "      <td>410.0</td>\n",
              "      <td>220.0</td>\n",
              "      <td>1000.000000</td>\n",
              "      <td>NaN</td>\n",
              "    </tr>\n",
              "    <tr>\n",
              "      <th>3</th>\n",
              "      <td>house</td>\n",
              "      <td>|Argentina|Bs.As. G.B.A. Zona Oeste|Tres de Fe...</td>\n",
              "      <td>-34.5957086,-58.5669503</td>\n",
              "      <td>180000.0</td>\n",
              "      <td>200.0</td>\n",
              "      <td>135.0</td>\n",
              "      <td>900.000000</td>\n",
              "      <td>5.0</td>\n",
              "    </tr>\n",
              "    <tr>\n",
              "      <th>4</th>\n",
              "      <td>apartment</td>\n",
              "      <td>|Argentina|Capital Federal|Chacarita|</td>\n",
              "      <td>-34.5846508988,-58.4546932614</td>\n",
              "      <td>129000.0</td>\n",
              "      <td>76.0</td>\n",
              "      <td>70.0</td>\n",
              "      <td>1697.368421</td>\n",
              "      <td>NaN</td>\n",
              "    </tr>\n",
              "  </tbody>\n",
              "</table>\n",
              "</div>\n",
              "    <div class=\"colab-df-buttons\">\n",
              "\n",
              "  <div class=\"colab-df-container\">\n",
              "    <button class=\"colab-df-convert\" onclick=\"convertToInteractive('df-1cc68740-948b-46de-91d1-2a17c5d183d4')\"\n",
              "            title=\"Convert this dataframe to an interactive table.\"\n",
              "            style=\"display:none;\">\n",
              "\n",
              "  <svg xmlns=\"http://www.w3.org/2000/svg\" height=\"24px\" viewBox=\"0 -960 960 960\">\n",
              "    <path d=\"M120-120v-720h720v720H120Zm60-500h600v-160H180v160Zm220 220h160v-160H400v160Zm0 220h160v-160H400v160ZM180-400h160v-160H180v160Zm440 0h160v-160H620v160ZM180-180h160v-160H180v160Zm440 0h160v-160H620v160Z\"/>\n",
              "  </svg>\n",
              "    </button>\n",
              "\n",
              "  <style>\n",
              "    .colab-df-container {\n",
              "      display:flex;\n",
              "      gap: 12px;\n",
              "    }\n",
              "\n",
              "    .colab-df-convert {\n",
              "      background-color: #E8F0FE;\n",
              "      border: none;\n",
              "      border-radius: 50%;\n",
              "      cursor: pointer;\n",
              "      display: none;\n",
              "      fill: #1967D2;\n",
              "      height: 32px;\n",
              "      padding: 0 0 0 0;\n",
              "      width: 32px;\n",
              "    }\n",
              "\n",
              "    .colab-df-convert:hover {\n",
              "      background-color: #E2EBFA;\n",
              "      box-shadow: 0px 1px 2px rgba(60, 64, 67, 0.3), 0px 1px 3px 1px rgba(60, 64, 67, 0.15);\n",
              "      fill: #174EA6;\n",
              "    }\n",
              "\n",
              "    .colab-df-buttons div {\n",
              "      margin-bottom: 4px;\n",
              "    }\n",
              "\n",
              "    [theme=dark] .colab-df-convert {\n",
              "      background-color: #3B4455;\n",
              "      fill: #D2E3FC;\n",
              "    }\n",
              "\n",
              "    [theme=dark] .colab-df-convert:hover {\n",
              "      background-color: #434B5C;\n",
              "      box-shadow: 0px 1px 3px 1px rgba(0, 0, 0, 0.15);\n",
              "      filter: drop-shadow(0px 1px 2px rgba(0, 0, 0, 0.3));\n",
              "      fill: #FFFFFF;\n",
              "    }\n",
              "  </style>\n",
              "\n",
              "    <script>\n",
              "      const buttonEl =\n",
              "        document.querySelector('#df-1cc68740-948b-46de-91d1-2a17c5d183d4 button.colab-df-convert');\n",
              "      buttonEl.style.display =\n",
              "        google.colab.kernel.accessAllowed ? 'block' : 'none';\n",
              "\n",
              "      async function convertToInteractive(key) {\n",
              "        const element = document.querySelector('#df-1cc68740-948b-46de-91d1-2a17c5d183d4');\n",
              "        const dataTable =\n",
              "          await google.colab.kernel.invokeFunction('convertToInteractive',\n",
              "                                                    [key], {});\n",
              "        if (!dataTable) return;\n",
              "\n",
              "        const docLinkHtml = 'Like what you see? Visit the ' +\n",
              "          '<a target=\"_blank\" href=https://colab.research.google.com/notebooks/data_table.ipynb>data table notebook</a>'\n",
              "          + ' to learn more about interactive tables.';\n",
              "        element.innerHTML = '';\n",
              "        dataTable['output_type'] = 'display_data';\n",
              "        await google.colab.output.renderOutput(dataTable, element);\n",
              "        const docLink = document.createElement('div');\n",
              "        docLink.innerHTML = docLinkHtml;\n",
              "        element.appendChild(docLink);\n",
              "      }\n",
              "    </script>\n",
              "  </div>\n",
              "\n",
              "\n",
              "<div id=\"df-38236a19-1dfe-4605-a752-196f08f975b1\">\n",
              "  <button class=\"colab-df-quickchart\" onclick=\"quickchart('df-38236a19-1dfe-4605-a752-196f08f975b1')\"\n",
              "            title=\"Suggest charts\"\n",
              "            style=\"display:none;\">\n",
              "\n",
              "<svg xmlns=\"http://www.w3.org/2000/svg\" height=\"24px\"viewBox=\"0 0 24 24\"\n",
              "     width=\"24px\">\n",
              "    <g>\n",
              "        <path d=\"M19 3H5c-1.1 0-2 .9-2 2v14c0 1.1.9 2 2 2h14c1.1 0 2-.9 2-2V5c0-1.1-.9-2-2-2zM9 17H7v-7h2v7zm4 0h-2V7h2v10zm4 0h-2v-4h2v4z\"/>\n",
              "    </g>\n",
              "</svg>\n",
              "  </button>\n",
              "\n",
              "<style>\n",
              "  .colab-df-quickchart {\n",
              "      --bg-color: #E8F0FE;\n",
              "      --fill-color: #1967D2;\n",
              "      --hover-bg-color: #E2EBFA;\n",
              "      --hover-fill-color: #174EA6;\n",
              "      --disabled-fill-color: #AAA;\n",
              "      --disabled-bg-color: #DDD;\n",
              "  }\n",
              "\n",
              "  [theme=dark] .colab-df-quickchart {\n",
              "      --bg-color: #3B4455;\n",
              "      --fill-color: #D2E3FC;\n",
              "      --hover-bg-color: #434B5C;\n",
              "      --hover-fill-color: #FFFFFF;\n",
              "      --disabled-bg-color: #3B4455;\n",
              "      --disabled-fill-color: #666;\n",
              "  }\n",
              "\n",
              "  .colab-df-quickchart {\n",
              "    background-color: var(--bg-color);\n",
              "    border: none;\n",
              "    border-radius: 50%;\n",
              "    cursor: pointer;\n",
              "    display: none;\n",
              "    fill: var(--fill-color);\n",
              "    height: 32px;\n",
              "    padding: 0;\n",
              "    width: 32px;\n",
              "  }\n",
              "\n",
              "  .colab-df-quickchart:hover {\n",
              "    background-color: var(--hover-bg-color);\n",
              "    box-shadow: 0 1px 2px rgba(60, 64, 67, 0.3), 0 1px 3px 1px rgba(60, 64, 67, 0.15);\n",
              "    fill: var(--button-hover-fill-color);\n",
              "  }\n",
              "\n",
              "  .colab-df-quickchart-complete:disabled,\n",
              "  .colab-df-quickchart-complete:disabled:hover {\n",
              "    background-color: var(--disabled-bg-color);\n",
              "    fill: var(--disabled-fill-color);\n",
              "    box-shadow: none;\n",
              "  }\n",
              "\n",
              "  .colab-df-spinner {\n",
              "    border: 2px solid var(--fill-color);\n",
              "    border-color: transparent;\n",
              "    border-bottom-color: var(--fill-color);\n",
              "    animation:\n",
              "      spin 1s steps(1) infinite;\n",
              "  }\n",
              "\n",
              "  @keyframes spin {\n",
              "    0% {\n",
              "      border-color: transparent;\n",
              "      border-bottom-color: var(--fill-color);\n",
              "      border-left-color: var(--fill-color);\n",
              "    }\n",
              "    20% {\n",
              "      border-color: transparent;\n",
              "      border-left-color: var(--fill-color);\n",
              "      border-top-color: var(--fill-color);\n",
              "    }\n",
              "    30% {\n",
              "      border-color: transparent;\n",
              "      border-left-color: var(--fill-color);\n",
              "      border-top-color: var(--fill-color);\n",
              "      border-right-color: var(--fill-color);\n",
              "    }\n",
              "    40% {\n",
              "      border-color: transparent;\n",
              "      border-right-color: var(--fill-color);\n",
              "      border-top-color: var(--fill-color);\n",
              "    }\n",
              "    60% {\n",
              "      border-color: transparent;\n",
              "      border-right-color: var(--fill-color);\n",
              "    }\n",
              "    80% {\n",
              "      border-color: transparent;\n",
              "      border-right-color: var(--fill-color);\n",
              "      border-bottom-color: var(--fill-color);\n",
              "    }\n",
              "    90% {\n",
              "      border-color: transparent;\n",
              "      border-bottom-color: var(--fill-color);\n",
              "    }\n",
              "  }\n",
              "</style>\n",
              "\n",
              "  <script>\n",
              "    async function quickchart(key) {\n",
              "      const quickchartButtonEl =\n",
              "        document.querySelector('#' + key + ' button');\n",
              "      quickchartButtonEl.disabled = true;  // To prevent multiple clicks.\n",
              "      quickchartButtonEl.classList.add('colab-df-spinner');\n",
              "      try {\n",
              "        const charts = await google.colab.kernel.invokeFunction(\n",
              "            'suggestCharts', [key], {});\n",
              "      } catch (error) {\n",
              "        console.error('Error during call to suggestCharts:', error);\n",
              "      }\n",
              "      quickchartButtonEl.classList.remove('colab-df-spinner');\n",
              "      quickchartButtonEl.classList.add('colab-df-quickchart-complete');\n",
              "    }\n",
              "    (() => {\n",
              "      let quickchartButtonEl =\n",
              "        document.querySelector('#df-38236a19-1dfe-4605-a752-196f08f975b1 button');\n",
              "      quickchartButtonEl.style.display =\n",
              "        google.colab.kernel.accessAllowed ? 'block' : 'none';\n",
              "    })();\n",
              "  </script>\n",
              "</div>\n",
              "\n",
              "    </div>\n",
              "  </div>\n"
            ],
            "application/vnd.google.colaboratory.intrinsic+json": {
              "type": "dataframe",
              "variable_name": "df",
              "summary": "{\n  \"name\": \"df\",\n  \"rows\": 8606,\n  \"fields\": [\n    {\n      \"column\": \"property_type\",\n      \"properties\": {\n        \"dtype\": \"category\",\n        \"num_unique_values\": 4,\n        \"samples\": [\n          \"house\",\n          \"store\",\n          \"apartment\"\n        ],\n        \"semantic_type\": \"\",\n        \"description\": \"\"\n      }\n    },\n    {\n      \"column\": \"place_with_parent_names\",\n      \"properties\": {\n        \"dtype\": \"category\",\n        \"num_unique_values\": 370,\n        \"samples\": [\n          \"|Argentina|Bs.As. G.B.A. Zona Norte|General San Mart\\u00edn|Villa Maipu|\",\n          \"|Argentina|Capital Federal|Villa General Mitre|\",\n          \"|Argentina|Capital Federal|Belgrano|\"\n        ],\n        \"semantic_type\": \"\",\n        \"description\": \"\"\n      }\n    },\n    {\n      \"column\": \"lat-lon\",\n      \"properties\": {\n        \"dtype\": \"string\",\n        \"num_unique_values\": 6074,\n        \"samples\": [\n          \"-34.5831329,-58.4208369\",\n          \"-34.593335,-58.442214\",\n          \"-34.4708789,-58.526495\"\n        ],\n        \"semantic_type\": \"\",\n        \"description\": \"\"\n      }\n    },\n    {\n      \"column\": \"price_aprox_usd\",\n      \"properties\": {\n        \"dtype\": \"number\",\n        \"std\": 313805.08667772607,\n        \"min\": 0.0,\n        \"max\": 8000000.0,\n        \"num_unique_values\": 1207,\n        \"samples\": [\n          1150000.0,\n          499000.0,\n          87802.37\n        ],\n        \"semantic_type\": \"\",\n        \"description\": \"\"\n      }\n    },\n    {\n      \"column\": \"surface_total_in_m2\",\n      \"properties\": {\n        \"dtype\": \"number\",\n        \"std\": 938.3748616937978,\n        \"min\": 0.0,\n        \"max\": 62034.0,\n        \"num_unique_values\": 727,\n        \"samples\": [\n          827.0,\n          1259.0,\n          187.0\n        ],\n        \"semantic_type\": \"\",\n        \"description\": \"\"\n      }\n    },\n    {\n      \"column\": \"surface_covered_in_m2\",\n      \"properties\": {\n        \"dtype\": \"number\",\n        \"std\": 764.0929310565024,\n        \"min\": 0.0,\n        \"max\": 62034.0,\n        \"num_unique_values\": 487,\n        \"samples\": [\n          57.0,\n          495.0,\n          552.0\n        ],\n        \"semantic_type\": \"\",\n        \"description\": \"\"\n      }\n    },\n    {\n      \"column\": \"price_usd_per_m2\",\n      \"properties\": {\n        \"dtype\": \"number\",\n        \"std\": 1577.0244298624714,\n        \"min\": 0.0,\n        \"max\": 54990.0,\n        \"num_unique_values\": 3156,\n        \"samples\": [\n          1510.989011,\n          2192.682927,\n          1336.633663\n        ],\n        \"semantic_type\": \"\",\n        \"description\": \"\"\n      }\n    },\n    {\n      \"column\": \"rooms\",\n      \"properties\": {\n        \"dtype\": \"number\",\n        \"std\": 1.3864809071269306,\n        \"min\": 1.0,\n        \"max\": 20.0,\n        \"num_unique_values\": 13,\n        \"samples\": [\n          20.0,\n          10.0,\n          4.0\n        ],\n        \"semantic_type\": \"\",\n        \"description\": \"\"\n      }\n    }\n  ]\n}"
            }
          },
          "metadata": {},
          "execution_count": 4
        }
      ]
    },
    {
      "cell_type": "code",
      "source": [
        "# Since we want to build a linear regression model, lets focus on a continuous variables instead of categorical ones\n",
        "# so let's drop more columns: 'lat-lon', 'surface_total_in_m2', 'price_usd_per_m2', 'price_usd_per_m2'\n",
        "df.drop(['lat-lon', 'surface_total_in_m2', 'price_usd_per_m2', 'price_usd_per_m2', 'rooms'], axis='columns', inplace=True)"
      ],
      "metadata": {
        "id": "cBL3rUwEUs6-"
      },
      "execution_count": 5,
      "outputs": []
    },
    {
      "cell_type": "code",
      "source": [
        "# let's check what our dataframe now looks like\n",
        "df.head()\n",
        "df.info()"
      ],
      "metadata": {
        "colab": {
          "base_uri": "https://localhost:8080/"
        },
        "id": "nUrPpCfSVor2",
        "outputId": "1dd742a8-b955-405d-e552-87115dae4d20"
      },
      "execution_count": 6,
      "outputs": [
        {
          "output_type": "stream",
          "name": "stdout",
          "text": [
            "<class 'pandas.core.frame.DataFrame'>\n",
            "RangeIndex: 8606 entries, 0 to 8605\n",
            "Data columns (total 4 columns):\n",
            " #   Column                   Non-Null Count  Dtype  \n",
            "---  ------                   --------------  -----  \n",
            " 0   property_type            8606 non-null   object \n",
            " 1   place_with_parent_names  8606 non-null   object \n",
            " 2   price_aprox_usd          7590 non-null   float64\n",
            " 3   surface_covered_in_m2    7268 non-null   float64\n",
            "dtypes: float64(2), object(2)\n",
            "memory usage: 269.1+ KB\n"
          ]
        }
      ]
    },
    {
      "cell_type": "markdown",
      "source": [
        "##**Subset of Data**\n",
        "\n",
        "In building our client's model, we need to focus on listings that meet three conditions:\n",
        "\n",
        "- listing has to be an apartment type\n",
        "- has to be in the city of Buenos Aires\n",
        "- costs less than $400,000 USD\n",
        "\n",
        "Based on these three conditions, we need to create a subset of the data."
      ],
      "metadata": {
        "id": "cnagXoY1RfQZ"
      }
    },
    {
      "cell_type": "code",
      "source": [
        "# Entire homes/apartments in Ward 115, less than $50,000\n",
        "\n",
        "# 1. has to be an apartment type\n",
        "df = df[df['property_type'] == 'apartment']\n",
        "# df['property_type'].unique()\n",
        "\n",
        "# 2. has to be in the city of Buenos Aires\n",
        "df = df[df['place_with_parent_names'].str.contains('Capital Federal')]\n",
        "\n",
        "# 3. costs less than $400,000 USD\n",
        "df = df[df['price_aprox_usd'] < 400000]\n",
        "df.info()\n",
        "df.head()"
      ],
      "metadata": {
        "colab": {
          "base_uri": "https://localhost:8080/",
          "height": 403
        },
        "collapsed": true,
        "id": "KBnAaAxrIqEr",
        "outputId": "fc990f2b-4872-42bd-d09b-dd22cccb2595"
      },
      "execution_count": 7,
      "outputs": [
        {
          "output_type": "stream",
          "name": "stdout",
          "text": [
            "<class 'pandas.core.frame.DataFrame'>\n",
            "Index: 1781 entries, 0 to 8604\n",
            "Data columns (total 4 columns):\n",
            " #   Column                   Non-Null Count  Dtype  \n",
            "---  ------                   --------------  -----  \n",
            " 0   property_type            1781 non-null   object \n",
            " 1   place_with_parent_names  1781 non-null   object \n",
            " 2   price_aprox_usd          1781 non-null   float64\n",
            " 3   surface_covered_in_m2    1635 non-null   float64\n",
            "dtypes: float64(2), object(2)\n",
            "memory usage: 69.6+ KB\n"
          ]
        },
        {
          "output_type": "execute_result",
          "data": {
            "text/plain": [
              "   property_type                   place_with_parent_names  price_aprox_usd  \\\n",
              "0      apartment  |Argentina|Capital Federal|Villa Crespo|         180000.0   \n",
              "4      apartment     |Argentina|Capital Federal|Chacarita|         129000.0   \n",
              "9      apartment    |Argentina|Capital Federal|Villa Luro|          87000.0   \n",
              "11     apartment          |Argentina|Capital Federal|Once|          60000.0   \n",
              "20     apartment   |Argentina|Capital Federal|San Nicolás|          69000.0   \n",
              "\n",
              "    surface_covered_in_m2  \n",
              "0                   110.0  \n",
              "4                    70.0  \n",
              "9                    42.0  \n",
              "11                   28.0  \n",
              "20                   22.0  "
            ],
            "text/html": [
              "\n",
              "  <div id=\"df-fd66e697-8ed6-4223-926d-32927fd55b9b\" class=\"colab-df-container\">\n",
              "    <div>\n",
              "<style scoped>\n",
              "    .dataframe tbody tr th:only-of-type {\n",
              "        vertical-align: middle;\n",
              "    }\n",
              "\n",
              "    .dataframe tbody tr th {\n",
              "        vertical-align: top;\n",
              "    }\n",
              "\n",
              "    .dataframe thead th {\n",
              "        text-align: right;\n",
              "    }\n",
              "</style>\n",
              "<table border=\"1\" class=\"dataframe\">\n",
              "  <thead>\n",
              "    <tr style=\"text-align: right;\">\n",
              "      <th></th>\n",
              "      <th>property_type</th>\n",
              "      <th>place_with_parent_names</th>\n",
              "      <th>price_aprox_usd</th>\n",
              "      <th>surface_covered_in_m2</th>\n",
              "    </tr>\n",
              "  </thead>\n",
              "  <tbody>\n",
              "    <tr>\n",
              "      <th>0</th>\n",
              "      <td>apartment</td>\n",
              "      <td>|Argentina|Capital Federal|Villa Crespo|</td>\n",
              "      <td>180000.0</td>\n",
              "      <td>110.0</td>\n",
              "    </tr>\n",
              "    <tr>\n",
              "      <th>4</th>\n",
              "      <td>apartment</td>\n",
              "      <td>|Argentina|Capital Federal|Chacarita|</td>\n",
              "      <td>129000.0</td>\n",
              "      <td>70.0</td>\n",
              "    </tr>\n",
              "    <tr>\n",
              "      <th>9</th>\n",
              "      <td>apartment</td>\n",
              "      <td>|Argentina|Capital Federal|Villa Luro|</td>\n",
              "      <td>87000.0</td>\n",
              "      <td>42.0</td>\n",
              "    </tr>\n",
              "    <tr>\n",
              "      <th>11</th>\n",
              "      <td>apartment</td>\n",
              "      <td>|Argentina|Capital Federal|Once|</td>\n",
              "      <td>60000.0</td>\n",
              "      <td>28.0</td>\n",
              "    </tr>\n",
              "    <tr>\n",
              "      <th>20</th>\n",
              "      <td>apartment</td>\n",
              "      <td>|Argentina|Capital Federal|San Nicolás|</td>\n",
              "      <td>69000.0</td>\n",
              "      <td>22.0</td>\n",
              "    </tr>\n",
              "  </tbody>\n",
              "</table>\n",
              "</div>\n",
              "    <div class=\"colab-df-buttons\">\n",
              "\n",
              "  <div class=\"colab-df-container\">\n",
              "    <button class=\"colab-df-convert\" onclick=\"convertToInteractive('df-fd66e697-8ed6-4223-926d-32927fd55b9b')\"\n",
              "            title=\"Convert this dataframe to an interactive table.\"\n",
              "            style=\"display:none;\">\n",
              "\n",
              "  <svg xmlns=\"http://www.w3.org/2000/svg\" height=\"24px\" viewBox=\"0 -960 960 960\">\n",
              "    <path d=\"M120-120v-720h720v720H120Zm60-500h600v-160H180v160Zm220 220h160v-160H400v160Zm0 220h160v-160H400v160ZM180-400h160v-160H180v160Zm440 0h160v-160H620v160ZM180-180h160v-160H180v160Zm440 0h160v-160H620v160Z\"/>\n",
              "  </svg>\n",
              "    </button>\n",
              "\n",
              "  <style>\n",
              "    .colab-df-container {\n",
              "      display:flex;\n",
              "      gap: 12px;\n",
              "    }\n",
              "\n",
              "    .colab-df-convert {\n",
              "      background-color: #E8F0FE;\n",
              "      border: none;\n",
              "      border-radius: 50%;\n",
              "      cursor: pointer;\n",
              "      display: none;\n",
              "      fill: #1967D2;\n",
              "      height: 32px;\n",
              "      padding: 0 0 0 0;\n",
              "      width: 32px;\n",
              "    }\n",
              "\n",
              "    .colab-df-convert:hover {\n",
              "      background-color: #E2EBFA;\n",
              "      box-shadow: 0px 1px 2px rgba(60, 64, 67, 0.3), 0px 1px 3px 1px rgba(60, 64, 67, 0.15);\n",
              "      fill: #174EA6;\n",
              "    }\n",
              "\n",
              "    .colab-df-buttons div {\n",
              "      margin-bottom: 4px;\n",
              "    }\n",
              "\n",
              "    [theme=dark] .colab-df-convert {\n",
              "      background-color: #3B4455;\n",
              "      fill: #D2E3FC;\n",
              "    }\n",
              "\n",
              "    [theme=dark] .colab-df-convert:hover {\n",
              "      background-color: #434B5C;\n",
              "      box-shadow: 0px 1px 3px 1px rgba(0, 0, 0, 0.15);\n",
              "      filter: drop-shadow(0px 1px 2px rgba(0, 0, 0, 0.3));\n",
              "      fill: #FFFFFF;\n",
              "    }\n",
              "  </style>\n",
              "\n",
              "    <script>\n",
              "      const buttonEl =\n",
              "        document.querySelector('#df-fd66e697-8ed6-4223-926d-32927fd55b9b button.colab-df-convert');\n",
              "      buttonEl.style.display =\n",
              "        google.colab.kernel.accessAllowed ? 'block' : 'none';\n",
              "\n",
              "      async function convertToInteractive(key) {\n",
              "        const element = document.querySelector('#df-fd66e697-8ed6-4223-926d-32927fd55b9b');\n",
              "        const dataTable =\n",
              "          await google.colab.kernel.invokeFunction('convertToInteractive',\n",
              "                                                    [key], {});\n",
              "        if (!dataTable) return;\n",
              "\n",
              "        const docLinkHtml = 'Like what you see? Visit the ' +\n",
              "          '<a target=\"_blank\" href=https://colab.research.google.com/notebooks/data_table.ipynb>data table notebook</a>'\n",
              "          + ' to learn more about interactive tables.';\n",
              "        element.innerHTML = '';\n",
              "        dataTable['output_type'] = 'display_data';\n",
              "        await google.colab.output.renderOutput(dataTable, element);\n",
              "        const docLink = document.createElement('div');\n",
              "        docLink.innerHTML = docLinkHtml;\n",
              "        element.appendChild(docLink);\n",
              "      }\n",
              "    </script>\n",
              "  </div>\n",
              "\n",
              "\n",
              "<div id=\"df-a1d18214-b4a8-4c54-ad9d-95acba240e2c\">\n",
              "  <button class=\"colab-df-quickchart\" onclick=\"quickchart('df-a1d18214-b4a8-4c54-ad9d-95acba240e2c')\"\n",
              "            title=\"Suggest charts\"\n",
              "            style=\"display:none;\">\n",
              "\n",
              "<svg xmlns=\"http://www.w3.org/2000/svg\" height=\"24px\"viewBox=\"0 0 24 24\"\n",
              "     width=\"24px\">\n",
              "    <g>\n",
              "        <path d=\"M19 3H5c-1.1 0-2 .9-2 2v14c0 1.1.9 2 2 2h14c1.1 0 2-.9 2-2V5c0-1.1-.9-2-2-2zM9 17H7v-7h2v7zm4 0h-2V7h2v10zm4 0h-2v-4h2v4z\"/>\n",
              "    </g>\n",
              "</svg>\n",
              "  </button>\n",
              "\n",
              "<style>\n",
              "  .colab-df-quickchart {\n",
              "      --bg-color: #E8F0FE;\n",
              "      --fill-color: #1967D2;\n",
              "      --hover-bg-color: #E2EBFA;\n",
              "      --hover-fill-color: #174EA6;\n",
              "      --disabled-fill-color: #AAA;\n",
              "      --disabled-bg-color: #DDD;\n",
              "  }\n",
              "\n",
              "  [theme=dark] .colab-df-quickchart {\n",
              "      --bg-color: #3B4455;\n",
              "      --fill-color: #D2E3FC;\n",
              "      --hover-bg-color: #434B5C;\n",
              "      --hover-fill-color: #FFFFFF;\n",
              "      --disabled-bg-color: #3B4455;\n",
              "      --disabled-fill-color: #666;\n",
              "  }\n",
              "\n",
              "  .colab-df-quickchart {\n",
              "    background-color: var(--bg-color);\n",
              "    border: none;\n",
              "    border-radius: 50%;\n",
              "    cursor: pointer;\n",
              "    display: none;\n",
              "    fill: var(--fill-color);\n",
              "    height: 32px;\n",
              "    padding: 0;\n",
              "    width: 32px;\n",
              "  }\n",
              "\n",
              "  .colab-df-quickchart:hover {\n",
              "    background-color: var(--hover-bg-color);\n",
              "    box-shadow: 0 1px 2px rgba(60, 64, 67, 0.3), 0 1px 3px 1px rgba(60, 64, 67, 0.15);\n",
              "    fill: var(--button-hover-fill-color);\n",
              "  }\n",
              "\n",
              "  .colab-df-quickchart-complete:disabled,\n",
              "  .colab-df-quickchart-complete:disabled:hover {\n",
              "    background-color: var(--disabled-bg-color);\n",
              "    fill: var(--disabled-fill-color);\n",
              "    box-shadow: none;\n",
              "  }\n",
              "\n",
              "  .colab-df-spinner {\n",
              "    border: 2px solid var(--fill-color);\n",
              "    border-color: transparent;\n",
              "    border-bottom-color: var(--fill-color);\n",
              "    animation:\n",
              "      spin 1s steps(1) infinite;\n",
              "  }\n",
              "\n",
              "  @keyframes spin {\n",
              "    0% {\n",
              "      border-color: transparent;\n",
              "      border-bottom-color: var(--fill-color);\n",
              "      border-left-color: var(--fill-color);\n",
              "    }\n",
              "    20% {\n",
              "      border-color: transparent;\n",
              "      border-left-color: var(--fill-color);\n",
              "      border-top-color: var(--fill-color);\n",
              "    }\n",
              "    30% {\n",
              "      border-color: transparent;\n",
              "      border-left-color: var(--fill-color);\n",
              "      border-top-color: var(--fill-color);\n",
              "      border-right-color: var(--fill-color);\n",
              "    }\n",
              "    40% {\n",
              "      border-color: transparent;\n",
              "      border-right-color: var(--fill-color);\n",
              "      border-top-color: var(--fill-color);\n",
              "    }\n",
              "    60% {\n",
              "      border-color: transparent;\n",
              "      border-right-color: var(--fill-color);\n",
              "    }\n",
              "    80% {\n",
              "      border-color: transparent;\n",
              "      border-right-color: var(--fill-color);\n",
              "      border-bottom-color: var(--fill-color);\n",
              "    }\n",
              "    90% {\n",
              "      border-color: transparent;\n",
              "      border-bottom-color: var(--fill-color);\n",
              "    }\n",
              "  }\n",
              "</style>\n",
              "\n",
              "  <script>\n",
              "    async function quickchart(key) {\n",
              "      const quickchartButtonEl =\n",
              "        document.querySelector('#' + key + ' button');\n",
              "      quickchartButtonEl.disabled = true;  // To prevent multiple clicks.\n",
              "      quickchartButtonEl.classList.add('colab-df-spinner');\n",
              "      try {\n",
              "        const charts = await google.colab.kernel.invokeFunction(\n",
              "            'suggestCharts', [key], {});\n",
              "      } catch (error) {\n",
              "        console.error('Error during call to suggestCharts:', error);\n",
              "      }\n",
              "      quickchartButtonEl.classList.remove('colab-df-spinner');\n",
              "      quickchartButtonEl.classList.add('colab-df-quickchart-complete');\n",
              "    }\n",
              "    (() => {\n",
              "      let quickchartButtonEl =\n",
              "        document.querySelector('#df-a1d18214-b4a8-4c54-ad9d-95acba240e2c button');\n",
              "      quickchartButtonEl.style.display =\n",
              "        google.colab.kernel.accessAllowed ? 'block' : 'none';\n",
              "    })();\n",
              "  </script>\n",
              "</div>\n",
              "\n",
              "    </div>\n",
              "  </div>\n"
            ],
            "application/vnd.google.colaboratory.intrinsic+json": {
              "type": "dataframe",
              "variable_name": "df",
              "summary": "{\n  \"name\": \"df\",\n  \"rows\": 1781,\n  \"fields\": [\n    {\n      \"column\": \"property_type\",\n      \"properties\": {\n        \"dtype\": \"category\",\n        \"num_unique_values\": 1,\n        \"samples\": [\n          \"apartment\"\n        ],\n        \"semantic_type\": \"\",\n        \"description\": \"\"\n      }\n    },\n    {\n      \"column\": \"place_with_parent_names\",\n      \"properties\": {\n        \"dtype\": \"category\",\n        \"num_unique_values\": 55,\n        \"samples\": [\n          \"|Argentina|Capital Federal|Villa Lugano|\"\n        ],\n        \"semantic_type\": \"\",\n        \"description\": \"\"\n      }\n    },\n    {\n      \"column\": \"price_aprox_usd\",\n      \"properties\": {\n        \"dtype\": \"number\",\n        \"std\": 75298.75850619271,\n        \"min\": 0.0,\n        \"max\": 398000.0,\n        \"num_unique_values\": 578,\n        \"samples\": [\n          79500.0\n        ],\n        \"semantic_type\": \"\",\n        \"description\": \"\"\n      }\n    },\n    {\n      \"column\": \"surface_covered_in_m2\",\n      \"properties\": {\n        \"dtype\": \"number\",\n        \"std\": 1533.0576103500907,\n        \"min\": 0.0,\n        \"max\": 62034.0,\n        \"num_unique_values\": 152,\n        \"samples\": [\n          75.0\n        ],\n        \"semantic_type\": \"\",\n        \"description\": \"\"\n      }\n    }\n  ]\n}"
            }
          },
          "metadata": {},
          "execution_count": 7
        }
      ]
    },
    {
      "cell_type": "code",
      "source": [
        "# now we can take out the rest of the null values\n",
        "df.dropna(inplace=True)\n",
        "df.info()"
      ],
      "metadata": {
        "colab": {
          "base_uri": "https://localhost:8080/"
        },
        "id": "eC9FRYlfapct",
        "outputId": "fb7051c3-5339-4788-d7a1-e23c62f44f72"
      },
      "execution_count": 8,
      "outputs": [
        {
          "output_type": "stream",
          "name": "stdout",
          "text": [
            "<class 'pandas.core.frame.DataFrame'>\n",
            "Index: 1635 entries, 0 to 8604\n",
            "Data columns (total 4 columns):\n",
            " #   Column                   Non-Null Count  Dtype  \n",
            "---  ------                   --------------  -----  \n",
            " 0   property_type            1635 non-null   object \n",
            " 1   place_with_parent_names  1635 non-null   object \n",
            " 2   price_aprox_usd          1635 non-null   float64\n",
            " 3   surface_covered_in_m2    1635 non-null   float64\n",
            "dtypes: float64(2), object(2)\n",
            "memory usage: 63.9+ KB\n"
          ]
        }
      ]
    },
    {
      "cell_type": "markdown",
      "source": [
        "##**Explore**\n",
        "\n",
        "Let's look at the distribution of apartment sizes in our dataset, so that we are sure property size is an important factor in determining price."
      ],
      "metadata": {
        "id": "6IfPU5Jjh8UW"
      }
    },
    {
      "cell_type": "markdown",
      "source": [
        " **Visualisation**\n",
        "\n",
        " We will reate a histogram of \"surface_covered_in_m2\". The x-axis will be labelled \"Area [sq meters]\" and the plot will have the title \"Distribution of Apartment Sizes\"."
      ],
      "metadata": {
        "id": "UOXZRr3pbqIq"
      }
    },
    {
      "cell_type": "code",
      "source": [
        "# histogram showing distribution of apartment sizes.\n",
        "\n",
        "plt.hist(df['surface_covered_in_m2'])\n",
        "plt.xlabel('Area [sq meters]')\n",
        "plt.title('Distribution of Apartment Sizes')"
      ],
      "metadata": {
        "colab": {
          "base_uri": "https://localhost:8080/",
          "height": 490
        },
        "id": "tyH9QGLqbo3O",
        "outputId": "440da3e5-0805-43f6-f216-8e39c4f0805f"
      },
      "execution_count": 9,
      "outputs": [
        {
          "output_type": "execute_result",
          "data": {
            "text/plain": [
              "Text(0.5, 1.0, 'Distribution of Apartment Sizes')"
            ]
          },
          "metadata": {},
          "execution_count": 9
        },
        {
          "output_type": "display_data",
          "data": {
            "text/plain": [
              "<Figure size 640x480 with 1 Axes>"
            ],
            "image/png": "[encoded data removed]"
          },
          "metadata": {}
        }
      ]
    },
    {
      "cell_type": "code",
      "source": [
        "# the visualisation is showing that we need to take a deeper exploration of our data\n",
        "# let's check out the summary statistics\n",
        "\n",
        "df['surface_covered_in_m2'].describe()"
      ],
      "metadata": {
        "colab": {
          "base_uri": "https://localhost:8080/"
        },
        "collapsed": true,
        "id": "iaRWdh5icch0",
        "outputId": "f52c8b88-b3c0-471b-c2f4-927837c00e2d"
      },
      "execution_count": 10,
      "outputs": [
        {
          "output_type": "execute_result",
          "data": {
            "text/plain": [
              "count     1635.000000\n",
              "mean        97.877064\n",
              "std       1533.057610\n",
              "min          0.000000\n",
              "25%         38.000000\n",
              "50%         50.000000\n",
              "75%         73.000000\n",
              "max      62034.000000\n",
              "Name: surface_covered_in_m2, dtype: float64"
            ]
          },
          "metadata": {},
          "execution_count": 10
        }
      ]
    },
    {
      "cell_type": "code",
      "source": [
        "# let's see the values around the min and max values\n",
        "df['surface_covered_in_m2'].sort_values()"
      ],
      "metadata": {
        "colab": {
          "base_uri": "https://localhost:8080/"
        },
        "id": "9a7MO2ZHeNgf",
        "outputId": "b9b39f1a-2061-40bf-c44c-3845317bda81"
      },
      "execution_count": 11,
      "outputs": [
        {
          "output_type": "execute_result",
          "data": {
            "text/plain": [
              "1589        0.0\n",
              "4391        0.0\n",
              "972         0.0\n",
              "269         0.0\n",
              "7564        0.0\n",
              "         ...   \n",
              "1583      240.0\n",
              "4758      240.0\n",
              "2072      274.0\n",
              "5744      605.0\n",
              "3103    62034.0\n",
              "Name: surface_covered_in_m2, Length: 1635, dtype: float64"
            ]
          },
          "metadata": {},
          "execution_count": 11
        }
      ]
    },
    {
      "cell_type": "code",
      "source": [
        "# let's go ahead and trim out the outlier values on both ends\n",
        "\n",
        "low, high = df['surface_covered_in_m2'].quantile([0.1, 0.9])\n",
        "df = df[df['surface_covered_in_m2'].between(low, high)]"
      ],
      "metadata": {
        "id": "6rNpovGUfQvB"
      },
      "execution_count": 12,
      "outputs": []
    },
    {
      "cell_type": "code",
      "source": [
        "# let's look at what we now have\n",
        "plt.hist(df['surface_covered_in_m2'])\n",
        "plt.xlabel('Area [sq meters]')\n",
        "plt.title('Distribution of Apartment Sizes')"
      ],
      "metadata": {
        "colab": {
          "base_uri": "https://localhost:8080/",
          "height": 490
        },
        "id": "V4e14tM3f82G",
        "outputId": "dced4694-629d-472a-8988-d0c5c3fc85e0"
      },
      "execution_count": 13,
      "outputs": [
        {
          "output_type": "execute_result",
          "data": {
            "text/plain": [
              "Text(0.5, 1.0, 'Distribution of Apartment Sizes')"
            ]
          },
          "metadata": {},
          "execution_count": 13
        },
        {
          "output_type": "display_data",
          "data": {
            "text/plain": [
              "<Figure size 640x480 with 1 Axes>"
            ],
            "image/png": "[encoded data removed]"
          },
          "metadata": {}
        }
      ]
    },
    {
      "cell_type": "markdown",
      "source": [
        "**Relationship between Apartment Size and Price**\n",
        "\n",
        "Now that our dataset is free of outliers, it's time to start exploring the relationship between apartment size and price. Let's use one of the tools we learned in the last project."
      ],
      "metadata": {
        "id": "csKLAIrNhdUq"
      }
    },
    {
      "cell_type": "code",
      "source": [
        "# let's create a scatter plot that shows price (\"price_aprox_usd\") vs area (\"surface_covered_in_m2\")\n",
        "plt.scatter(x=df['surface_covered_in_m2'], y=df['price_aprox_usd'])\n",
        "plt.xlabel('Area [sq meters]')\n",
        "plt.ylabel('Price [USD]')\n",
        "plt.title('Buenos Aires Price vs. Area')"
      ],
      "metadata": {
        "colab": {
          "base_uri": "https://localhost:8080/",
          "height": 490
        },
        "id": "KvoLMzNmhnw-",
        "outputId": "6a8f58d1-5f29-400c-c8f9-584af1437d13"
      },
      "execution_count": 14,
      "outputs": [
        {
          "output_type": "execute_result",
          "data": {
            "text/plain": [
              "Text(0.5, 1.0, 'Buenos Aires Price vs. Area')"
            ]
          },
          "metadata": {},
          "execution_count": 14
        },
        {
          "output_type": "display_data",
          "data": {
            "text/plain": [
              "<Figure size 640x480 with 1 Axes>"
            ],
            "image/png": "[encoded data removed]"
          },
          "metadata": {}
        }
      ]
    },
    {
      "cell_type": "markdown",
      "source": [
        "**Linear Model**\n",
        "\n",
        "Linear model is basically about line and distance, what does this mean?\n",
        "\n",
        "Linear model aims to create a line that best represents the relationship between the feature and target. This line can be used to make predictions.\n",
        "The distance refers to how close or far the model line is to the line that represents the relationship that exists in the data.\n",
        "\n",
        "When training a model, the model is trying find the best point within the data to place the line."
      ],
      "metadata": {
        "id": "FKuD-y2pl3wW"
      }
    },
    {
      "cell_type": "markdown",
      "source": [
        "The scatter plot above shows that, to a significant extent, there's a positive correlation between apartment price and size. If we want to predict price, then size will be a good feature to use."
      ],
      "metadata": {
        "id": "lplkBbGZjJ67"
      }
    },
    {
      "cell_type": "markdown",
      "source": [
        "**Split**\n",
        "\n",
        "Before going on to build the model, we need to split the **target** (the thing you want to predict) from the **feature** (the information your model will use to make its predictions). For this model, we'll use the feature: apartment size, to predict the target: price."
      ],
      "metadata": {
        "id": "GJO7XkRKpCYl"
      }
    },
    {
      "cell_type": "code",
      "source": [
        "# the feature, should be a matrix: a two dimensional array\n",
        "# the variable should be an upper-case X\n",
        "# since its training data, we add the train description to the variable name\n",
        "\n",
        "X_train = df[['surface_covered_in_m2']] # there are two square brackets here, to make a (2 dimensional) dataframe"
      ],
      "metadata": {
        "id": "pdRbmdH27PZ5"
      },
      "execution_count": 15,
      "outputs": []
    },
    {
      "cell_type": "code",
      "source": [
        "# the target, should be a matrix: a one dimensional array\n",
        "# the variable should be an lower-case X\n",
        "# since its training data, we add the train description to the variable name\n",
        "\n",
        "y_train = df['price_aprox_usd'] # there is one square bracket here, to make a (1 dimensional) array/sequence"
      ],
      "metadata": {
        "id": "5Xpkyo2fy61f"
      },
      "execution_count": 16,
      "outputs": []
    },
    {
      "cell_type": "markdown",
      "source": [
        "# **Build Model**"
      ],
      "metadata": {
        "id": "Be93otXhkAUg"
      }
    },
    {
      "cell_type": "markdown",
      "source": [
        "**Baseline Model**\n",
        "\n",
        "First step in creating our predictive model is to create a baseline model. We will be using this baseline model to compare our model to measure the performance of our model.\n",
        "\n",
        "The baseline model is a dumb model, it will always predict the same price value, for every area value passed to it. The price it will always predict is the mean of the y_train values (the price values)."
      ],
      "metadata": {
        "id": "Q20f-8RykQUR"
      }
    },
    {
      "cell_type": "code",
      "source": [
        "# first let's calculate the mean of all prices, i.e y_train values\n",
        "y_mean = y_train.mean()\n",
        "\n",
        "# then we generate a list that repeats the mean (the prediction) for every entry in our dataset.\n",
        "y_pred_baseline = [y_mean] * len(y_train)"
      ],
      "metadata": {
        "id": "Q5z8qEVU1srj"
      },
      "execution_count": 17,
      "outputs": []
    },
    {
      "cell_type": "markdown",
      "source": [
        "Now we have our baseline model, let's plot it on the scatter plot we created earlier."
      ],
      "metadata": {
        "id": "yQ5tDYCk43cC"
      }
    },
    {
      "cell_type": "code",
      "source": [
        "plt.plot(X_train.values, y_pred_baseline, color='orange', label='Baseline Model')\n",
        "plt.scatter(X_train, y_train)\n",
        "plt.xlabel(\"Area [sq meters]\")\n",
        "plt.ylabel(\"Price [USD]\")\n",
        "plt.title(\"Buenos Aires: Price vs. Area\")\n",
        "plt.legend();"
      ],
      "metadata": {
        "colab": {
          "base_uri": "https://localhost:8080/",
          "height": 472
        },
        "id": "55qdYIaM5AvQ",
        "outputId": "11c9f0b9-274d-4b2e-c455-bd352cfc4239"
      },
      "execution_count": 18,
      "outputs": [
        {
          "output_type": "display_data",
          "data": {
            "text/plain": [
              "<Figure size 640x480 with 1 Axes>"
            ],
            "image/png": "[encoded data removed]"
          },
          "metadata": {}
        }
      ]
    },
    {
      "cell_type": "markdown",
      "source": [
        "From the visualization, it is obvious that our baseline model doesn't really follow the trend in the data. We can also use a more scientific approach to ascertain this, **mean absolute error**.\n",
        "\n",
        "The mean absolute error is one of the different ways by which **performance metric** can be measured"
      ],
      "metadata": {
        "id": "8m0GUrWS8lwk"
      }
    },
    {
      "cell_type": "code",
      "source": [
        "# to calculate the mean absolute error for our baseline, need to import the mean_absolute_error method from sklearn.metrics module\n",
        "from sklearn.metrics import mean_absolute_error\n",
        "\n",
        "mae_baseline = mean_absolute_error(y_train, y_pred_baseline)\n",
        "\n",
        "print(\"Mean apartment price\", round(y_mean, 2))\n",
        "print(\"Baseline MAE:\", round(mae_baseline, 2))"
      ],
      "metadata": {
        "colab": {
          "base_uri": "https://localhost:8080/"
        },
        "id": "7USnQKWw9eAb",
        "outputId": "c16fc1ba-8237-4238-f577-6b3577315202"
      },
      "execution_count": 19,
      "outputs": [
        {
          "output_type": "stream",
          "name": "stdout",
          "text": [
            "Mean apartment price 135527.84\n",
            "Baseline MAE: 45199.46\n"
          ]
        }
      ]
    },
    {
      "cell_type": "markdown",
      "source": [
        "Now, we have a mean absolute error for our baseline model. It is this value that we will use to evaluate our predictive model.\n",
        "\n",
        "Once we create and train our model, we will calculate its mean absolute error as well. Our model's mean absolute error has to be less than that of the baseline, or else it won't be a useful model."
      ],
      "metadata": {
        "id": "5GDLmUXOjrVo"
      }
    },
    {
      "cell_type": "markdown",
      "source": [
        "**Iterate**\n",
        "\n",
        "The next step we will be taking is the Iteration process, which involves building a the model, training it, and then evaluating it."
      ],
      "metadata": {
        "id": "FOnmbjRMlU-E"
      }
    },
    {
      "cell_type": "code",
      "source": [
        "# creating the (Linear Regression) model\n",
        "# to create the model, we need to import the LinearRegression method from sklearn.linear_model\n",
        "from sklearn.linear_model import LinearRegression\n",
        "model = LinearRegression()\n",
        "\n",
        "# next is to train our model, or fit it to the training data\n",
        "model.fit(X_train, y_train)"
      ],
      "metadata": {
        "colab": {
          "base_uri": "https://localhost:8080/",
          "height": 75
        },
        "id": "bTjIGXvGlUY3",
        "outputId": "eb39098a-f601-4f86-fbc7-bce0015d2db4"
      },
      "execution_count": 20,
      "outputs": [
        {
          "output_type": "execute_result",
          "data": {
            "text/plain": [
              "LinearRegression()"
            ],
            "text/html": [
              "<style>#sk-container-id-1 {color: black;background-color: white;}#sk-container-id-1 pre{padding: 0;}#sk-container-id-1 div.sk-toggleable {background-color: white;}#sk-container-id-1 label.sk-toggleable__label {cursor: pointer;display: block;width: 100%;margin-bottom: 0;padding: 0.3em;box-sizing: border-box;text-align: center;}#sk-container-id-1 label.sk-toggleable__label-arrow:before {content: \"▸\";float: left;margin-right: 0.25em;color: #696969;}#sk-container-id-1 label.sk-toggleable__label-arrow:hover:before {color: black;}#sk-container-id-1 div.sk-estimator:hover label.sk-toggleable__label-arrow:before {color: black;}#sk-container-id-1 div.sk-toggleable__content {max-height: 0;max-width: 0;overflow: hidden;text-align: left;background-color: #f0f8ff;}#sk-container-id-1 div.sk-toggleable__content pre {margin: 0.2em;color: black;border-radius: 0.25em;background-color: #f0f8ff;}#sk-container-id-1 input.sk-toggleable__control:checked~div.sk-toggleable__content {max-height: 200px;max-width: 100%;overflow: auto;}#sk-container-id-1 input.sk-toggleable__control:checked~label.sk-toggleable__label-arrow:before {content: \"▾\";}#sk-container-id-1 div.sk-estimator input.sk-toggleable__control:checked~label.sk-toggleable__label {background-color: #d4ebff;}#sk-container-id-1 div.sk-label input.sk-toggleable__control:checked~label.sk-toggleable__label {background-color: #d4ebff;}#sk-container-id-1 input.sk-hidden--visually {border: 0;clip: rect(1px 1px 1px 1px);clip: rect(1px, 1px, 1px, 1px);height: 1px;margin: -1px;overflow: hidden;padding: 0;position: absolute;width: 1px;}#sk-container-id-1 div.sk-estimator {font-family: monospace;background-color: #f0f8ff;border: 1px dotted black;border-radius: 0.25em;box-sizing: border-box;margin-bottom: 0.5em;}#sk-container-id-1 div.sk-estimator:hover {background-color: #d4ebff;}#sk-container-id-1 div.sk-parallel-item::after {content: \"\";width: 100%;border-bottom: 1px solid gray;flex-grow: 1;}#sk-container-id-1 div.sk-label:hover label.sk-toggleable__label {background-color: #d4ebff;}#sk-container-id-1 div.sk-serial::before {content: \"\";position: absolute;border-left: 1px solid gray;box-sizing: border-box;top: 0;bottom: 0;left: 50%;z-index: 0;}#sk-container-id-1 div.sk-serial {display: flex;flex-direction: column;align-items: center;background-color: white;padding-right: 0.2em;padding-left: 0.2em;position: relative;}#sk-container-id-1 div.sk-item {position: relative;z-index: 1;}#sk-container-id-1 div.sk-parallel {display: flex;align-items: stretch;justify-content: center;background-color: white;position: relative;}#sk-container-id-1 div.sk-item::before, #sk-container-id-1 div.sk-parallel-item::before {content: \"\";position: absolute;border-left: 1px solid gray;box-sizing: border-box;top: 0;bottom: 0;left: 50%;z-index: -1;}#sk-container-id-1 div.sk-parallel-item {display: flex;flex-direction: column;z-index: 1;position: relative;background-color: white;}#sk-container-id-1 div.sk-parallel-item:first-child::after {align-self: flex-end;width: 50%;}#sk-container-id-1 div.sk-parallel-item:last-child::after {align-self: flex-start;width: 50%;}#sk-container-id-1 div.sk-parallel-item:only-child::after {width: 0;}#sk-container-id-1 div.sk-dashed-wrapped {border: 1px dashed gray;margin: 0 0.4em 0.5em 0.4em;box-sizing: border-box;padding-bottom: 0.4em;background-color: white;}#sk-container-id-1 div.sk-label label {font-family: monospace;font-weight: bold;display: inline-block;line-height: 1.2em;}#sk-container-id-1 div.sk-label-container {text-align: center;}#sk-container-id-1 div.sk-container {/* jupyter's `normalize.less` sets `[hidden] { display: none; }` but bootstrap.min.css set `[hidden] { display: none !important; }` so we also need the `!important` here to be able to override the default hidden behavior on the sphinx rendered scikit-learn.org. See: https://github.com/scikit-learn/scikit-learn/issues/21755 */display: inline-block !important;position: relative;}#sk-container-id-1 div.sk-text-repr-fallback {display: none;}</style><div id=\"sk-container-id-1\" class=\"sk-top-container\"><div class=\"sk-text-repr-fallback\"><pre>LinearRegression()</pre><b>In a Jupyter environment, please rerun this cell to show the HTML representation or trust the notebook. <br />On GitHub, the HTML representation is unable to render, please try loading this page with nbviewer.org.</b></div><div class=\"sk-container\" hidden><div class=\"sk-item\"><div class=\"sk-estimator sk-toggleable\"><input class=\"sk-toggleable__control sk-hidden--visually\" id=\"sk-estimator-id-1\" type=\"checkbox\" checked><label for=\"sk-estimator-id-1\" class=\"sk-toggleable__label sk-toggleable__label-arrow\">LinearRegression</label><div class=\"sk-toggleable__content\"><pre>LinearRegression()</pre></div></div></div></div></div>"
            ]
          },
          "metadata": {},
          "execution_count": 20
        }
      ]
    },
    {
      "cell_type": "markdown",
      "source": [
        "the final step in the **iteration** process is to evaluate the model.\n",
        "\n",
        "First we'd test its prediction abilities with the data used in training it:\n",
        "- we'd give it the training 'surface_covered_in_m2' values, for it to predict price values.\n",
        "- We'd then calculate the mean absolute error.\n",
        "\n",
        "Next, we'd test the model using data not used in training it; **test dataset**\n",
        "- we'd give the model the test data's 'surface_covered_in_m2' values, for it to predict price values.\n",
        "- We'd then calculate the mean absolute error, again."
      ],
      "metadata": {
        "id": "hoyQYuk1qyHy"
      }
    },
    {
      "cell_type": "code",
      "source": [
        "# let's use the predict method to generate prediction values, based on the X_train ()'surface_covered_in_m2') values\n",
        "# the values are stored in the 'y_pred_training' variable\n",
        "y_pred_training = model.predict(X_train)\n",
        "\n",
        "\n",
        "# let's see what we have. (the [:5] there means only 5 values should be printed out)\n",
        "y_pred_training[:5]"
      ],
      "metadata": {
        "colab": {
          "base_uri": "https://localhost:8080/"
        },
        "collapsed": true,
        "id": "7gcnlF7iskQY",
        "outputId": "92c22615-ad75-4fe0-8876-71392fa66427"
      },
      "execution_count": 21,
      "outputs": [
        {
          "output_type": "execute_result",
          "data": {
            "text/plain": [
              "array([169151.87330223, 106064.44707446, 133101.91545779, 106064.44707446,\n",
              "       124089.42599668])"
            ]
          },
          "metadata": {},
          "execution_count": 21
        }
      ]
    },
    {
      "cell_type": "code",
      "source": [
        "# to measure our model's performance with the training data, let's calculate the mean absolute error.\n",
        "mae_training = mean_absolute_error(y_train, y_pred_training)\n",
        "print(\"Training Mean Absolute Error:\", round(mae_training, 2))"
      ],
      "metadata": {
        "colab": {
          "base_uri": "https://localhost:8080/"
        },
        "id": "alIBqojutsy-",
        "outputId": "7f95759d-eee4-465d-99b4-acb77991202c"
      },
      "execution_count": 22,
      "outputs": [
        {
          "output_type": "stream",
          "name": "stdout",
          "text": [
            "Training Mean Absolute Error: 31248.26\n"
          ]
        }
      ]
    },
    {
      "cell_type": "code",
      "source": [
        "# let's now compare the training Mean Absolute Error of our model, with that of the baseline\n",
        "print(\"Training Mean Absolute Error:\", round(mae_training, 2))\n",
        "print(\"Baseline Mean Absolute Error:\", round(mae_baseline, 2))\n",
        "print('The difference between the Mean Absolute Error of the Baseline, and that of our model using training data is:',\n",
        "      round(mae_baseline, 2) - round(mae_training, 2));"
      ],
      "metadata": {
        "colab": {
          "base_uri": "https://localhost:8080/"
        },
        "id": "PCYa-w8ay7Fv",
        "outputId": "0c73d79c-30e3-495c-d8d6-fa80448e520b"
      },
      "execution_count": 23,
      "outputs": [
        {
          "output_type": "stream",
          "name": "stdout",
          "text": [
            "Training Mean Absolute Error: 31248.26\n",
            "Baseline Mean Absolute Error: 45199.46\n",
            "The difference between the Mean Absolute Error of the Baseline, and that of our model using training data is: 13951.2\n"
          ]
        }
      ]
    },
    {
      "cell_type": "markdown",
      "source": [
        "Remember when we said, *Our model's mean absolute error has to be less than that of the baseline, or else it won't be a useful model.*\n",
        "\n",
        "Looking at the difference between the mean absolute error values, we can confidently say our model will be helpful in predicting apartment prices, since it beats the baseline Mean Absolute Error by more than $10,000."
      ],
      "metadata": {
        "id": "4kHeA8EF1M-E"
      }
    },
    {
      "cell_type": "markdown",
      "source": [
        "The test above gives a positive impression of our model, but it doesn't end there. We still need to evaluate how our model performs on data that it hasn't seen before, data that we call the test dataset."
      ],
      "metadata": {
        "id": "Qn_N8xvq179G"
      }
    },
    {
      "cell_type": "code",
      "source": [
        "# let's import a test dataset\n",
        "pd_testdata = pd.read_csv('/content/drive/MyDrive/PluralCode/Data Science With Python/buenos-aires-test-features.csv')\n",
        "pd_testdata.head()\n",
        "# we get the feature matrix from the data\n",
        "# X_test = pd_testdata[['surface_covered_in_m2']]\n",
        "\n",
        "# we also get the target vector from the data\n",
        "# y_test = pd_testdata['price_aprox_usd']"
      ],
      "metadata": {
        "id": "xTckTl5c2jDs",
        "colab": {
          "base_uri": "https://localhost:8080/",
          "height": 206
        },
        "outputId": "5efadc26-bcaa-449b-dfd6-5dfaed230b81"
      },
      "execution_count": 30,
      "outputs": [
        {
          "output_type": "execute_result",
          "data": {
            "text/plain": [
              "   surface_covered_in_m2        lat        lon      neighborhood\n",
              "0                     47 -34.615310 -58.361983     Puerto Madero\n",
              "1                     55 -34.547298 -58.462705             Nuñez\n",
              "2                     34 -34.617762 -58.383662         Monserrat\n",
              "3                     34 -34.639925 -58.438406  Parque Chacabuco\n",
              "4                     42 -34.611495 -58.442359         Caballito"
            ],
            "text/html": [
              "\n",
              "  <div id=\"df-f0be0558-eff3-415c-abd4-1207d96d277f\" class=\"colab-df-container\">\n",
              "    <div>\n",
              "<style scoped>\n",
              "    .dataframe tbody tr th:only-of-type {\n",
              "        vertical-align: middle;\n",
              "    }\n",
              "\n",
              "    .dataframe tbody tr th {\n",
              "        vertical-align: top;\n",
              "    }\n",
              "\n",
              "    .dataframe thead th {\n",
              "        text-align: right;\n",
              "    }\n",
              "</style>\n",
              "<table border=\"1\" class=\"dataframe\">\n",
              "  <thead>\n",
              "    <tr style=\"text-align: right;\">\n",
              "      <th></th>\n",
              "      <th>surface_covered_in_m2</th>\n",
              "      <th>lat</th>\n",
              "      <th>lon</th>\n",
              "      <th>neighborhood</th>\n",
              "    </tr>\n",
              "  </thead>\n",
              "  <tbody>\n",
              "    <tr>\n",
              "      <th>0</th>\n",
              "      <td>47</td>\n",
              "      <td>-34.615310</td>\n",
              "      <td>-58.361983</td>\n",
              "      <td>Puerto Madero</td>\n",
              "    </tr>\n",
              "    <tr>\n",
              "      <th>1</th>\n",
              "      <td>55</td>\n",
              "      <td>-34.547298</td>\n",
              "      <td>-58.462705</td>\n",
              "      <td>Nuñez</td>\n",
              "    </tr>\n",
              "    <tr>\n",
              "      <th>2</th>\n",
              "      <td>34</td>\n",
              "      <td>-34.617762</td>\n",
              "      <td>-58.383662</td>\n",
              "      <td>Monserrat</td>\n",
              "    </tr>\n",
              "    <tr>\n",
              "      <th>3</th>\n",
              "      <td>34</td>\n",
              "      <td>-34.639925</td>\n",
              "      <td>-58.438406</td>\n",
              "      <td>Parque Chacabuco</td>\n",
              "    </tr>\n",
              "    <tr>\n",
              "      <th>4</th>\n",
              "      <td>42</td>\n",
              "      <td>-34.611495</td>\n",
              "      <td>-58.442359</td>\n",
              "      <td>Caballito</td>\n",
              "    </tr>\n",
              "  </tbody>\n",
              "</table>\n",
              "</div>\n",
              "    <div class=\"colab-df-buttons\">\n",
              "\n",
              "  <div class=\"colab-df-container\">\n",
              "    <button class=\"colab-df-convert\" onclick=\"convertToInteractive('df-f0be0558-eff3-415c-abd4-1207d96d277f')\"\n",
              "            title=\"Convert this dataframe to an interactive table.\"\n",
              "            style=\"display:none;\">\n",
              "\n",
              "  <svg xmlns=\"http://www.w3.org/2000/svg\" height=\"24px\" viewBox=\"0 -960 960 960\">\n",
              "    <path d=\"M120-120v-720h720v720H120Zm60-500h600v-160H180v160Zm220 220h160v-160H400v160Zm0 220h160v-160H400v160ZM180-400h160v-160H180v160Zm440 0h160v-160H620v160ZM180-180h160v-160H180v160Zm440 0h160v-160H620v160Z\"/>\n",
              "  </svg>\n",
              "    </button>\n",
              "\n",
              "  <style>\n",
              "    .colab-df-container {\n",
              "      display:flex;\n",
              "      gap: 12px;\n",
              "    }\n",
              "\n",
              "    .colab-df-convert {\n",
              "      background-color: #E8F0FE;\n",
              "      border: none;\n",
              "      border-radius: 50%;\n",
              "      cursor: pointer;\n",
              "      display: none;\n",
              "      fill: #1967D2;\n",
              "      height: 32px;\n",
              "      padding: 0 0 0 0;\n",
              "      width: 32px;\n",
              "    }\n",
              "\n",
              "    .colab-df-convert:hover {\n",
              "      background-color: #E2EBFA;\n",
              "      box-shadow: 0px 1px 2px rgba(60, 64, 67, 0.3), 0px 1px 3px 1px rgba(60, 64, 67, 0.15);\n",
              "      fill: #174EA6;\n",
              "    }\n",
              "\n",
              "    .colab-df-buttons div {\n",
              "      margin-bottom: 4px;\n",
              "    }\n",
              "\n",
              "    [theme=dark] .colab-df-convert {\n",
              "      background-color: #3B4455;\n",
              "      fill: #D2E3FC;\n",
              "    }\n",
              "\n",
              "    [theme=dark] .colab-df-convert:hover {\n",
              "      background-color: #434B5C;\n",
              "      box-shadow: 0px 1px 3px 1px rgba(0, 0, 0, 0.15);\n",
              "      filter: drop-shadow(0px 1px 2px rgba(0, 0, 0, 0.3));\n",
              "      fill: #FFFFFF;\n",
              "    }\n",
              "  </style>\n",
              "\n",
              "    <script>\n",
              "      const buttonEl =\n",
              "        document.querySelector('#df-f0be0558-eff3-415c-abd4-1207d96d277f button.colab-df-convert');\n",
              "      buttonEl.style.display =\n",
              "        google.colab.kernel.accessAllowed ? 'block' : 'none';\n",
              "\n",
              "      async function convertToInteractive(key) {\n",
              "        const element = document.querySelector('#df-f0be0558-eff3-415c-abd4-1207d96d277f');\n",
              "        const dataTable =\n",
              "          await google.colab.kernel.invokeFunction('convertToInteractive',\n",
              "                                                    [key], {});\n",
              "        if (!dataTable) return;\n",
              "\n",
              "        const docLinkHtml = 'Like what you see? Visit the ' +\n",
              "          '<a target=\"_blank\" href=https://colab.research.google.com/notebooks/data_table.ipynb>data table notebook</a>'\n",
              "          + ' to learn more about interactive tables.';\n",
              "        element.innerHTML = '';\n",
              "        dataTable['output_type'] = 'display_data';\n",
              "        await google.colab.output.renderOutput(dataTable, element);\n",
              "        const docLink = document.createElement('div');\n",
              "        docLink.innerHTML = docLinkHtml;\n",
              "        element.appendChild(docLink);\n",
              "      }\n",
              "    </script>\n",
              "  </div>\n",
              "\n",
              "\n",
              "<div id=\"df-fcbf197a-15cd-4caa-8794-f17363905a30\">\n",
              "  <button class=\"colab-df-quickchart\" onclick=\"quickchart('df-fcbf197a-15cd-4caa-8794-f17363905a30')\"\n",
              "            title=\"Suggest charts\"\n",
              "            style=\"display:none;\">\n",
              "\n",
              "<svg xmlns=\"http://www.w3.org/2000/svg\" height=\"24px\"viewBox=\"0 0 24 24\"\n",
              "     width=\"24px\">\n",
              "    <g>\n",
              "        <path d=\"M19 3H5c-1.1 0-2 .9-2 2v14c0 1.1.9 2 2 2h14c1.1 0 2-.9 2-2V5c0-1.1-.9-2-2-2zM9 17H7v-7h2v7zm4 0h-2V7h2v10zm4 0h-2v-4h2v4z\"/>\n",
              "    </g>\n",
              "</svg>\n",
              "  </button>\n",
              "\n",
              "<style>\n",
              "  .colab-df-quickchart {\n",
              "      --bg-color: #E8F0FE;\n",
              "      --fill-color: #1967D2;\n",
              "      --hover-bg-color: #E2EBFA;\n",
              "      --hover-fill-color: #174EA6;\n",
              "      --disabled-fill-color: #AAA;\n",
              "      --disabled-bg-color: #DDD;\n",
              "  }\n",
              "\n",
              "  [theme=dark] .colab-df-quickchart {\n",
              "      --bg-color: #3B4455;\n",
              "      --fill-color: #D2E3FC;\n",
              "      --hover-bg-color: #434B5C;\n",
              "      --hover-fill-color: #FFFFFF;\n",
              "      --disabled-bg-color: #3B4455;\n",
              "      --disabled-fill-color: #666;\n",
              "  }\n",
              "\n",
              "  .colab-df-quickchart {\n",
              "    background-color: var(--bg-color);\n",
              "    border: none;\n",
              "    border-radius: 50%;\n",
              "    cursor: pointer;\n",
              "    display: none;\n",
              "    fill: var(--fill-color);\n",
              "    height: 32px;\n",
              "    padding: 0;\n",
              "    width: 32px;\n",
              "  }\n",
              "\n",
              "  .colab-df-quickchart:hover {\n",
              "    background-color: var(--hover-bg-color);\n",
              "    box-shadow: 0 1px 2px rgba(60, 64, 67, 0.3), 0 1px 3px 1px rgba(60, 64, 67, 0.15);\n",
              "    fill: var(--button-hover-fill-color);\n",
              "  }\n",
              "\n",
              "  .colab-df-quickchart-complete:disabled,\n",
              "  .colab-df-quickchart-complete:disabled:hover {\n",
              "    background-color: var(--disabled-bg-color);\n",
              "    fill: var(--disabled-fill-color);\n",
              "    box-shadow: none;\n",
              "  }\n",
              "\n",
              "  .colab-df-spinner {\n",
              "    border: 2px solid var(--fill-color);\n",
              "    border-color: transparent;\n",
              "    border-bottom-color: var(--fill-color);\n",
              "    animation:\n",
              "      spin 1s steps(1) infinite;\n",
              "  }\n",
              "\n",
              "  @keyframes spin {\n",
              "    0% {\n",
              "      border-color: transparent;\n",
              "      border-bottom-color: var(--fill-color);\n",
              "      border-left-color: var(--fill-color);\n",
              "    }\n",
              "    20% {\n",
              "      border-color: transparent;\n",
              "      border-left-color: var(--fill-color);\n",
              "      border-top-color: var(--fill-color);\n",
              "    }\n",
              "    30% {\n",
              "      border-color: transparent;\n",
              "      border-left-color: var(--fill-color);\n",
              "      border-top-color: var(--fill-color);\n",
              "      border-right-color: var(--fill-color);\n",
              "    }\n",
              "    40% {\n",
              "      border-color: transparent;\n",
              "      border-right-color: var(--fill-color);\n",
              "      border-top-color: var(--fill-color);\n",
              "    }\n",
              "    60% {\n",
              "      border-color: transparent;\n",
              "      border-right-color: var(--fill-color);\n",
              "    }\n",
              "    80% {\n",
              "      border-color: transparent;\n",
              "      border-right-color: var(--fill-color);\n",
              "      border-bottom-color: var(--fill-color);\n",
              "    }\n",
              "    90% {\n",
              "      border-color: transparent;\n",
              "      border-bottom-color: var(--fill-color);\n",
              "    }\n",
              "  }\n",
              "</style>\n",
              "\n",
              "  <script>\n",
              "    async function quickchart(key) {\n",
              "      const quickchartButtonEl =\n",
              "        document.querySelector('#' + key + ' button');\n",
              "      quickchartButtonEl.disabled = true;  // To prevent multiple clicks.\n",
              "      quickchartButtonEl.classList.add('colab-df-spinner');\n",
              "      try {\n",
              "        const charts = await google.colab.kernel.invokeFunction(\n",
              "            'suggestCharts', [key], {});\n",
              "      } catch (error) {\n",
              "        console.error('Error during call to suggestCharts:', error);\n",
              "      }\n",
              "      quickchartButtonEl.classList.remove('colab-df-spinner');\n",
              "      quickchartButtonEl.classList.add('colab-df-quickchart-complete');\n",
              "    }\n",
              "    (() => {\n",
              "      let quickchartButtonEl =\n",
              "        document.querySelector('#df-fcbf197a-15cd-4caa-8794-f17363905a30 button');\n",
              "      quickchartButtonEl.style.display =\n",
              "        google.colab.kernel.accessAllowed ? 'block' : 'none';\n",
              "    })();\n",
              "  </script>\n",
              "</div>\n",
              "\n",
              "    </div>\n",
              "  </div>\n"
            ],
            "application/vnd.google.colaboratory.intrinsic+json": {
              "type": "dataframe",
              "summary": "{\n  \"name\": \"# y_test = pd_testdata['price_aprox_usd']\",\n  \"rows\": 5,\n  \"fields\": [\n    {\n      \"column\": \"surface_covered_in_m2\",\n      \"properties\": {\n        \"dtype\": \"number\",\n        \"std\": 8,\n        \"min\": 34,\n        \"max\": 55,\n        \"num_unique_values\": 4,\n        \"samples\": [\n          55,\n          42,\n          47\n        ],\n        \"semantic_type\": \"\",\n        \"description\": \"\"\n      }\n    },\n    {\n      \"column\": \"lat\",\n      \"properties\": {\n        \"dtype\": \"number\",\n        \"std\": 0.03482583147789703,\n        \"min\": -34.639925,\n        \"max\": -34.5472984,\n        \"num_unique_values\": 5,\n        \"samples\": [\n          -34.5472984,\n          -34.6114952,\n          -34.6177615\n        ],\n        \"semantic_type\": \"\",\n        \"description\": \"\"\n      }\n    },\n    {\n      \"column\": \"lon\",\n      \"properties\": {\n        \"dtype\": \"number\",\n        \"std\": 0.04279326270335133,\n        \"min\": -58.4627046,\n        \"max\": -58.3619834,\n        \"num_unique_values\": 5,\n        \"samples\": [\n          -58.4627046,\n          -58.4423587,\n          -58.383662\n        ],\n        \"semantic_type\": \"\",\n        \"description\": \"\"\n      }\n    },\n    {\n      \"column\": \"neighborhood\",\n      \"properties\": {\n        \"dtype\": \"string\",\n        \"num_unique_values\": 5,\n        \"samples\": [\n          \"Nu\\u00f1ez\",\n          \"Caballito\",\n          \"Monserrat\"\n        ],\n        \"semantic_type\": \"\",\n        \"description\": \"\"\n      }\n    }\n  ]\n}"
            }
          },
          "metadata": {},
          "execution_count": 30
        }
      ]
    },
    {
      "cell_type": "code",
      "source": [
        "# @title\n",
        "# next is to use our model to predict prices using test data\n",
        "y_pred_test = model.predict(X_test)\n",
        "\n",
        "# let's see what we have\n",
        "y_pred_test[:5]"
      ],
      "metadata": {
        "colab": {
          "base_uri": "https://localhost:8080/"
        },
        "id": "vTsmY8s-9j6P",
        "outputId": "12f2587e-061e-4e52-a5cc-1f1ad824878e",
        "cellView": "form"
      },
      "execution_count": 25,
      "outputs": [
        {
          "output_type": "execute_result",
          "data": {
            "text/plain": [
              "array([117330.05890084, 135355.03782307,  88039.46815224,  88039.46815224,\n",
              "       106064.44707446])"
            ]
          },
          "metadata": {},
          "execution_count": 25
        }
      ]
    },
    {
      "cell_type": "code",
      "source": [
        "# we then calculate the test Mean Absolute Error\n",
        "# you have to do this step yourself\n",
        "# take a cue from how we calculated the mean absolute errors previously\n",
        "# compare what you get with the Mean Absolute Error of the baseline, and draw your conclusions\n",
        "\n",
        "mae_test = mean_absolute_error(y_test, y_pred_test)\n",
        "print(\"Test Mean Absolute Error:\", round(mae_training, 2))"
      ],
      "metadata": {
        "id": "4tAwk_ruAl3m",
        "colab": {
          "base_uri": "https://localhost:8080/",
          "height": 198
        },
        "outputId": "a47f74e9-7e4b-4ce3-d16a-68d963030026"
      },
      "execution_count": 27,
      "outputs": [
        {
          "output_type": "error",
          "ename": "NameError",
          "evalue": "name 'y_test' is not defined",
          "traceback": [
            "\u001b[0;31m---------------------------------------------------------------------------\u001b[0m",
            "\u001b[0;31mNameError\u001b[0m                                 Traceback (most recent call last)",
            "\u001b[0;32m<ipython-input-27-2593150590c7>\u001b[0m in \u001b[0;36m<cell line: 6>\u001b[0;34m()\u001b[0m\n\u001b[1;32m      4\u001b[0m \u001b[0;31m# compare what you get with the Mean Absolute Error of the baseline, and draw your conclusions\u001b[0m\u001b[0;34m\u001b[0m\u001b[0;34m\u001b[0m\u001b[0m\n\u001b[1;32m      5\u001b[0m \u001b[0;34m\u001b[0m\u001b[0m\n\u001b[0;32m----> 6\u001b[0;31m \u001b[0mmae_test\u001b[0m \u001b[0;34m=\u001b[0m \u001b[0mmean_absolute_error\u001b[0m\u001b[0;34m(\u001b[0m\u001b[0my_test\u001b[0m\u001b[0;34m,\u001b[0m \u001b[0my_pred_test\u001b[0m\u001b[0;34m)\u001b[0m\u001b[0;34m\u001b[0m\u001b[0;34m\u001b[0m\u001b[0m\n\u001b[0m\u001b[1;32m      7\u001b[0m \u001b[0mprint\u001b[0m\u001b[0;34m(\u001b[0m\u001b[0;34m\"Test Mean Absolute Error:\"\u001b[0m\u001b[0;34m,\u001b[0m \u001b[0mround\u001b[0m\u001b[0;34m(\u001b[0m\u001b[0mmae_training\u001b[0m\u001b[0;34m,\u001b[0m \u001b[0;36m2\u001b[0m\u001b[0;34m)\u001b[0m\u001b[0;34m)\u001b[0m\u001b[0;34m\u001b[0m\u001b[0;34m\u001b[0m\u001b[0m\n",
            "\u001b[0;31mNameError\u001b[0m: name 'y_test' is not defined"
          ]
        }
      ]
    },
    {
      "cell_type": "markdown",
      "source": [
        "# **Communicate Results**"
      ],
      "metadata": {
        "id": "Uc-_a95EkUVB"
      }
    },
    {
      "cell_type": "markdown",
      "source": [
        "This section will be updated once the previous sections have been mastered."
      ],
      "metadata": {
        "id": "9iUbsG4yBdrN"
      }
    },
    {
      "cell_type": "code",
      "source": [],
      "metadata": {
        "id": "BkpFY9k59ILG"
      },
      "execution_count": null,
      "outputs": []
    }
  ]
}